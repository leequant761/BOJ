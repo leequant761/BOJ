{
 "cells": [
  {
   "cell_type": "markdown",
   "metadata": {},
   "source": [
    "# 위상정렬 for DAG\n",
    "\n",
    "1. 순방향방법 (with bfs)\n",
    "\n",
    "   > DAG에서 진입차수가 0인 v부터 시작하여 제거하면서 진입차수가 0인 v들을 계속 뱉는 방법\n",
    "\n",
    "2. 역방향방법 (with dfs)\n",
    "\n",
    "   > DAG에서 진출 차수가 0인 v부터 시작하여 제거하면서 진출차수가 0인 v들을 계속 뱉는 방법"
   ]
  },
  {
   "cell_type": "markdown",
   "metadata": {},
   "source": [
    "#### 줄 세우기\n",
    "\n",
    "https://www.acmicpc.net/problem/2252"
   ]
  },
  {
   "cell_type": "markdown",
   "metadata": {},
   "source": [
    "계획\n",
    "\n",
    "> 1. DAG를 구현한다.\n",
    "> 2. 위상정렬을 시행한다.\n",
    "> > 1. 차수가 0인 vertex들은 queue에 넣는다. \n",
    "> > 2. 터트리고 차수를 1씩 낮춘다. and repeat 1"
   ]
  },
  {
   "cell_type": "code",
   "execution_count": 78,
   "metadata": {},
   "outputs": [
    {
     "name": "stdout",
     "output_type": "stream",
     "text": [
      "4 2\n",
      "4 2\n",
      "1 3\n",
      "1 4 3 2 "
     ]
    }
   ],
   "source": [
    "from collections import deque\n",
    "\n",
    "N, M = list(map(int, input().split()))\n",
    "\n",
    "# DAG 구현\n",
    "degrees = [0 for i in range(N+1)]\n",
    "adj_list = [[] for i in range(N+1)]\n",
    "\n",
    "for i in range(M):\n",
    "    from_, to_ = list(map(int, input().split()))\n",
    "    adj_list[from_].append(to_)\n",
    "    degrees[to_]+=1\n",
    "\n",
    "# 위상정렬 with bfs\n",
    "q = deque()\n",
    "for i in range(1, N+1):\n",
    "    if degrees[i]==0:\n",
    "        q.append(i)\n",
    "        \n",
    "results = []\n",
    "\n",
    "while len(q)!=0:\n",
    "    from_ = q.popleft()\n",
    "    to_ = adj_list[from_]\n",
    "    results.append(from_)\n",
    "    \n",
    "    for to in to_:\n",
    "        degrees[to] -= 1\n",
    "        if degrees[to]==0:\n",
    "            q.append(to)\n",
    "\n",
    "for i in results:\n",
    "    print(i, end=' ')"
   ]
  },
  {
   "cell_type": "markdown",
   "metadata": {},
   "source": [
    "#### ACM Craft\n",
    "https://www.acmicpc.net/problem/1005"
   ]
  },
  {
   "cell_type": "markdown",
   "metadata": {},
   "source": [
    "계획\n",
    "\n",
    ">1. DAG 구현\n",
    ">2. 위상 정렬\n",
    ">3. 각 vertex마다 cost 쌓아가기"
   ]
  },
  {
   "cell_type": "code",
   "execution_count": 5,
   "metadata": {},
   "outputs": [
    {
     "name": "stdout",
     "output_type": "stream",
     "text": [
      "2\n",
      "4 4\n",
      "10 1 100 10\n",
      "1 2\n",
      "1 3\n",
      "2 4\n",
      "3 4\n",
      "4\n",
      "120\n",
      "8 8\n",
      "10 20 1 5 8 7 1 43\n",
      "1 2\n",
      "1 3\n",
      "2 4\n",
      "2 5\n",
      "3 6\n",
      "5 7\n",
      "6 7\n",
      "7 8\n",
      "7\n",
      "39\n"
     ]
    }
   ],
   "source": [
    "from collections import deque\n",
    "\n",
    "t = int(input())\n",
    "\n",
    "for xxxx in range(t):\n",
    "    N, M = list(map(int, input().split()))\n",
    "\n",
    "    # DAG 구현\n",
    "    degrees = [0 for i in range(N+1)]\n",
    "    adj_list = [[] for i in range(N+1)]\n",
    "    costs = [0] + list(map(int, input().split()))\n",
    "    dists = costs.copy()\n",
    "\n",
    "    for i in range(M):\n",
    "        from_, to_ = list(map(int, input().split()))\n",
    "        adj_list[from_].append(to_)\n",
    "        degrees[to_]+=1\n",
    "\n",
    "    dest = int(input())    \n",
    "\n",
    "    # 위상정렬 with bfs\n",
    "    q = deque()\n",
    "    for i in range(1, N+1):\n",
    "        if degrees[i]==0:\n",
    "            q.append(i)\n",
    "\n",
    "    # results = []\n",
    "\n",
    "    while len(q)!=0:\n",
    "        f = q.popleft()\n",
    "        t = adj_list[f]\n",
    "        # results.append(f)\n",
    "\n",
    "        for to in t:\n",
    "            degrees[to] -= 1\n",
    "            dists[to] = max(dists[to], dists[f]+costs[to])\n",
    "            if degrees[to]==0:\n",
    "                q.append(to)\n",
    "\n",
    "    print(dists[dest])"
   ]
  },
  {
   "cell_type": "markdown",
   "metadata": {},
   "source": [
    "#### 작업\n",
    "https://www.acmicpc.net/problem/2056"
   ]
  },
  {
   "cell_type": "code",
   "execution_count": 22,
   "metadata": {},
   "outputs": [
    {
     "name": "stdout",
     "output_type": "stream",
     "text": [
      "7\n",
      "5 0\n",
      "1 1 1\n",
      "3 1 2\n",
      "6 1 1\n",
      "1 2 2 4\n",
      "8 2 2 4\n",
      "4 3 3 5 6\n"
     ]
    }
   ],
   "source": [
    "from collections import deque\n",
    "\n",
    "N = int(input())\n",
    "\n",
    "# DAG 구현\n",
    "degrees = [0 for i in range(N+1)]\n",
    "adj_list = [[] for i in range(N+1)]\n",
    "costs = [0]*(N+1)\n",
    "\n",
    "for i in range(1, N+1):\n",
    "    cost, degree, *inv_adj = list(map(int, input().split()))\n",
    "    costs[i] = cost\n",
    "    degrees[i] = degree\n",
    "    for inv in inv_adj:\n",
    "        adj_list[inv].append(i)\n",
    "dists = costs.copy()\n",
    "\n",
    "\n",
    "# 위상정렬 with bfs\n",
    "q = deque()\n",
    "for i in range(1, N+1):\n",
    "    if degrees[i]==0:\n",
    "        q.append(i)\n",
    "\n",
    "while len(q)!=0:\n",
    "    f = q.popleft()\n",
    "    t = adj_list[f]\n",
    "    for to in t:\n",
    "        degrees[to] -= 1\n",
    "        dists[to] = max(dists[to], dists[f]+costs[to])\n",
    "        if degrees[to]==0:\n",
    "            q.append(to)\n",
    "print(max(dists))"
   ]
  },
  {
   "cell_type": "markdown",
   "metadata": {},
   "source": [
    "#### 최소스패닝트리\n",
    "https://www.acmicpc.net/problem/1197"
   ]
  },
  {
   "cell_type": "markdown",
   "metadata": {},
   "source": [
    "계획\n",
    "\n",
    "1. edge를 weights가 낮은 순서대로 가장 작은 순서대로 (a,b) 나열한다.\n",
    "\n",
    "2. 각 (a,b)마다 find를 하여서 서로 부모노드가 다르면 union을한다."
   ]
  },
  {
   "cell_type": "code",
   "execution_count": 1,
   "metadata": {},
   "outputs": [
    {
     "name": "stdout",
     "output_type": "stream",
     "text": [
      "3 3\n",
      "1 2 1\n",
      "2 3 2\n",
      "1 3 3\n",
      "3\n"
     ]
    }
   ],
   "source": [
    "N, M = map(int, input().split())\n",
    "\n",
    "weights = []\n",
    "for _ in range(M):\n",
    "    weights.append(tuple(map(int, input().split())))\n",
    "\n",
    "group = [i for i in range(N+1)] # 우선은 노드 자기 자신이 그륩 representative\n",
    "\n",
    "def find(u):\n",
    "    if u!=group[u]:\n",
    "        group[u] = find(group[u])\n",
    "    return group[u]\n",
    "\n",
    "def union(u,v):\n",
    "    root1 = find(u)\n",
    "    root2 = find(v)\n",
    "    group[root2] = root1\n",
    "\n",
    "weights.sort(key = lambda x: x[2])\n",
    "\n",
    "mst = []\n",
    "\n",
    "# 최소 스패닝 트리는 N-1개의 edge를 정의하는 것이다.\n",
    "i = 0\n",
    "while len(mst)!=N-1:\n",
    "    u, v = weights[i][0], weights[i][1]\n",
    "    if find(u)==find(v):\n",
    "        i += 1\n",
    "        continue\n",
    "    else:\n",
    "        union(u,v)\n",
    "        mst.append((weights[i]))\n",
    "        i +=1\n",
    "\n",
    "print(sum([i[2] for i in mst]))"
   ]
  }
 ],
 "metadata": {
  "kernelspec": {
   "display_name": "Python 3",
   "language": "python",
   "name": "python3"
  },
  "language_info": {
   "codemirror_mode": {
    "name": "ipython",
    "version": 3
   },
   "file_extension": ".py",
   "mimetype": "text/x-python",
   "name": "python",
   "nbconvert_exporter": "python",
   "pygments_lexer": "ipython3",
   "version": "3.8.8"
  }
 },
 "nbformat": 4,
 "nbformat_minor": 2
}
