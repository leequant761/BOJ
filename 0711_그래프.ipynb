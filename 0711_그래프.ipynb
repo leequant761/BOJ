{
 "cells": [
  {
   "cell_type": "markdown",
   "metadata": {},
   "source": [
    "# 1. 서로소 집합 자료구조\n",
    "\n",
    "* 합집합(Union)\n",
    "* 찾기(Find)"
   ]
  },
  {
   "cell_type": "markdown",
   "metadata": {},
   "source": [
    "command: `Union(1,4)`, `Union(2,3)`, `Union(2,4)`, `Union(5,6)`\n",
    "\n",
    "| 노드       | 1    | 2    | 3    | 4    | 5    | 6    |\n",
    "| ---------- | ---- | ---- | ---- | ---- | ---- | ---- |\n",
    "| 부모테이블 | 1    | 2    | 3    | 4    | 5    | 6    |\n",
    "| U(1,4)     | 1    | 2    | 3    | 1    | 5    | 6    |\n",
    "| U(2,3)     | 1    | 2    | 2    | 1    | 5    | 6    |\n",
    "| U(2,4)     | 1    | 1    | 2    | 1    | 5    | 6    |\n",
    "| U(5,6)     | 1    | 1    | 2    | 1    | 5    | 5    |\n",
    "\n",
    "루트 노드를 보면 {1, 2, 3, 4}, {5, 6} 이 서로소 집합이다.\n",
    "\n",
    "단점은 탐색을 하면 루트노드를 찾기 위해 부모테이블을 거슬러 올라가게 된다."
   ]
  },
  {
   "cell_type": "code",
   "execution_count": 96,
   "metadata": {},
   "outputs": [
    {
     "name": "stdout",
     "output_type": "stream",
     "text": [
      "6 4\n",
      "1 4\n",
      "2 3\n",
      "2 4\n",
      "5 6\n",
      "각 원소가 속한 집합: 1 1 1 1 5 5 \n",
      "부모 테이블: 1 1 1 1 5 5 "
     ]
    }
   ],
   "source": [
    "# 특정 원소가 속한 집합을 찾기\n",
    "def find_parent(parent, x):\n",
    "    # 루트 노드를 찾을 때까지 재귀 호출\n",
    "    if parent[x] != x:\n",
    "        return find_parent(parent, parent[x])\n",
    "    return x\n",
    "\n",
    "# 두 원소가 속한 집합을 합치기\n",
    "def union_parent(parent, a, b):\n",
    "    a = find_parent(parent, a)\n",
    "    b = find_parent(parent, b)\n",
    "    if a < b:\n",
    "        parent[b] = a\n",
    "    else:\n",
    "        parent[a] = b\n",
    "        \n",
    "# 노드의 개수와 간선(Union 연산)의 개수 입력 받기\n",
    "v, e = map(int, input().split())\n",
    "parent = [0] * (v + 1) # 부모 테이블 초기화하기\n",
    "\n",
    "# 부모 테이블 상에서, 부모를 자기 자신으로 초기화\n",
    "for i in range(1, v+1):\n",
    "    parent[i] = i\n",
    "    \n",
    "# Union 연산을 각각 수행\n",
    "for i in range(e):\n",
    "    a, b = map(int, input().split())\n",
    "    union_parent(parent, a, b)\n",
    "    \n",
    "# 각 원소가 속한 집합 출력하기\n",
    "print('각 원소가 속한 집합: ', end='')\n",
    "for i in range(1, v+1):\n",
    "    print(find_parent(parent, i), end=' ')\n",
    "print()\n",
    "\n",
    "# 부모 테이블 출력하기\n",
    "print('부모 테이블: ', end='')\n",
    "for i in range(1, v+1):\n",
    "    print(parent[i], end=' ')"
   ]
  },
  {
   "cell_type": "markdown",
   "metadata": {},
   "source": [
    "## 1.1 서로소 집합 자료구조의 단점\n",
    "\n",
    "합집합 연산이 평향된 경우 find 함수의 시간 복잡도가 $O(V)$가 된다.\n",
    "\n",
    "찾기 재귀함수를 최적화하기 위해 **경로 압축**을 사용한다.\n",
    "\n",
    "> 그렇다고 parent list root node를 갖는 건 아니다."
   ]
  },
  {
   "cell_type": "code",
   "execution_count": 95,
   "metadata": {},
   "outputs": [],
   "source": [
    "# 특정 원소가 속한 집합을 찾기\n",
    "def find_parent(parent, x):\n",
    "    # 루트 노드를 찾을 때까지 재귀 호출\n",
    "    if parent[x] != x:\n",
    "        parent[x] = find_parent(parent, parent[x])\n",
    "    return parent[x]"
   ]
  },
  {
   "cell_type": "markdown",
   "metadata": {},
   "source": [
    "## 1.2 서로소 집합을 이용한 사이클 판별\n",
    "\n",
    "무방향 그래프에서 사이클이 있는 지 없는 지 판별한다.\n",
    "\n",
    "각 간선마다\n",
    "\n",
    "    1. 루트 노드가 서로 다르다면 두 노드에 대해 합집합 연산을 한다.\n",
    "    2. 루트 노드가 서로 같다면 사이클이 있는 것이다."
   ]
  },
  {
   "cell_type": "markdown",
   "metadata": {},
   "source": [
    "![](./fig/cycle.png)\n",
    "\n",
    "| 노드       | 1    | 2    | 3    |\n",
    "| ---------- | ---- | ---- | ---- |\n",
    "| 부모테이블 | 1    | 2    | 3    |\n",
    "| U(1,2)     | 1    | 1    | 3    |\n",
    "| U(1,3)     | 1    | 1    | 1    |\n",
    "| U(2,3)     | 1    | 1    | 1    |\n",
    "\n",
    "`U(2,3)`에서 두 노드의 루트노드가 서로 같음을 통해 사이클이 있는 걸 알게된다."
   ]
  },
  {
   "cell_type": "code",
   "execution_count": 4,
   "metadata": {},
   "outputs": [
    {
     "name": "stdout",
     "output_type": "stream",
     "text": [
      "3 3\n",
      "1 2\n",
      "2 3\n",
      "1 3\n",
      "사이클 있다.\n"
     ]
    }
   ],
   "source": [
    "# 노드의 개수와 간선(Union 연산)의 개수 입력 받기\n",
    "v, e = map(int, input().split())\n",
    "parent = [0] * (v + 1) # 부모 테이블 초기화하기\n",
    "\n",
    "# 부모 테이블 상에서, 부모를 자기 자신으로 초기화\n",
    "for i in range(1, v+1):\n",
    "    parent[i] = i\n",
    "    \n",
    "cycle = False # 사이클 발생 여부\n",
    "    \n",
    "# Union 연산을 각각 수행\n",
    "for i in range(e):\n",
    "    a, b = map(int, input().split())\n",
    "    if find_parent(parent, a) == find_parent(parent, b):\n",
    "        cycle = True\n",
    "    else:\n",
    "        union_parent(parent, a, b)\n",
    "\n",
    "if cycle:\n",
    "    print('사이클 있다.')\n",
    "else:\n",
    "    print('사이클 없다.')"
   ]
  },
  {
   "cell_type": "markdown",
   "metadata": {},
   "source": [
    "### 거짓말\n",
    "https://www.acmicpc.net/problem/1043"
   ]
  },
  {
   "cell_type": "code",
   "execution_count": 44,
   "metadata": {},
   "outputs": [
    {
     "name": "stdout",
     "output_type": "stream",
     "text": [
      "4 5\n",
      "1 1\n",
      "1 1\n",
      "1 2\n",
      "1 3\n",
      "1 4\n",
      "2 4 1\n",
      "2\n"
     ]
    }
   ],
   "source": [
    "def find_parent(parent, a):\n",
    "    if parent[a] != a:\n",
    "        parent[a] = find_parent(parent, parent[a])\n",
    "    return parent[a]\n",
    "\n",
    "def union(parent, a, b):\n",
    "    root_a = find_parent(parent, a)\n",
    "    root_b = find_parent(parent, b)\n",
    "    if root_a > root_b:\n",
    "        parent[root_a] = root_b\n",
    "    else:\n",
    "        parent[root_b] = root_a\n",
    "\n",
    "n_person, n_party = map(int, input().split())\n",
    "n_knower, *knowers = map(int, input().split())\n",
    "\n",
    "parent = [None] + [i for i in range(1, n_person+1)]\n",
    "\n",
    "for a, b in zip(knowers[:n_knower-1], knowers[1:n_knower]):\n",
    "    union(parent, a, b)\n",
    "\n",
    "party_list = []\n",
    "for _ in range(n_party):\n",
    "    n, *people = map(int, input().split())\n",
    "    party_list.append(people)\n",
    "    if n == 1:\n",
    "        continue\n",
    "    for a, b in zip(people[:n-1], people[1:]):\n",
    "        union(parent, a, b)\n",
    "\n",
    "ct = 0\n",
    "if len(knowers) == 0:\n",
    "    print(n_party)\n",
    "else:\n",
    "    knower = knowers[0]\n",
    "    for party in party_list:\n",
    "        in_knower = any([find_parent(parent, p) == find_parent(parent, knower) for p in party])\n",
    "        if not in_knower:\n",
    "            ct += 1\n",
    "    print(ct)"
   ]
  },
  {
   "cell_type": "markdown",
   "metadata": {},
   "source": [
    "# 최소신장트리, 위상정렬은 나중에"
   ]
  },
  {
   "cell_type": "markdown",
   "metadata": {},
   "source": [
    "# 위상정렬 for DAG\n",
    "\n",
    "1. 순방향방법 (with bfs)\n",
    "\n",
    "   > DAG에서 진입차수가 0인 v부터 시작하여 제거하면서 진입차수가 0인 v들을 계속 뱉는 방법\n",
    "\n",
    "2. 역방향방법 (with dfs)\n",
    "\n",
    "   > DAG에서 진출 차수가 0인 v부터 시작하여 제거하면서 진출차수가 0인 v들을 계속 뱉는 방법"
   ]
  },
  {
   "cell_type": "markdown",
   "metadata": {},
   "source": [
    "#### 줄 세우기\n",
    "\n",
    "https://www.acmicpc.net/problem/2252"
   ]
  },
  {
   "cell_type": "markdown",
   "metadata": {},
   "source": [
    "계획\n",
    "\n",
    "> 1. DAG를 구현한다.\n",
    "> 2. 위상정렬을 시행한다.\n",
    "> > 1. 차수가 0인 vertex들은 queue에 넣는다. \n",
    "> > 2. 터트리고 차수를 1씩 낮춘다. and repeat 1"
   ]
  },
  {
   "cell_type": "code",
   "execution_count": 78,
   "metadata": {},
   "outputs": [
    {
     "name": "stdout",
     "output_type": "stream",
     "text": [
      "4 2\n",
      "4 2\n",
      "1 3\n",
      "1 4 3 2 "
     ]
    }
   ],
   "source": [
    "from collections import deque\n",
    "\n",
    "N, M = list(map(int, input().split()))\n",
    "\n",
    "# DAG 구현\n",
    "degrees = [0 for i in range(N+1)]\n",
    "adj_list = [[] for i in range(N+1)]\n",
    "\n",
    "for i in range(M):\n",
    "    from_, to_ = list(map(int, input().split()))\n",
    "    adj_list[from_].append(to_)\n",
    "    degrees[to_]+=1\n",
    "\n",
    "# 위상정렬 with bfs\n",
    "q = deque()\n",
    "for i in range(1, N+1):\n",
    "    if degrees[i]==0:\n",
    "        q.append(i)\n",
    "        \n",
    "results = []\n",
    "\n",
    "while len(q)!=0:\n",
    "    from_ = q.popleft()\n",
    "    to_ = adj_list[from_]\n",
    "    results.append(from_)\n",
    "    \n",
    "    for to in to_:\n",
    "        degrees[to] -= 1\n",
    "        if degrees[to]==0:\n",
    "            q.append(to)\n",
    "\n",
    "for i in results:\n",
    "    print(i, end=' ')"
   ]
  },
  {
   "cell_type": "markdown",
   "metadata": {},
   "source": [
    "#### ACM Craft\n",
    "https://www.acmicpc.net/problem/1005"
   ]
  },
  {
   "cell_type": "markdown",
   "metadata": {},
   "source": [
    "계획\n",
    "\n",
    ">1. DAG 구현\n",
    ">2. 위상 정렬\n",
    ">3. 각 vertex마다 cost 쌓아가기"
   ]
  },
  {
   "cell_type": "code",
   "execution_count": 5,
   "metadata": {},
   "outputs": [
    {
     "name": "stdout",
     "output_type": "stream",
     "text": [
      "2\n",
      "4 4\n",
      "10 1 100 10\n",
      "1 2\n",
      "1 3\n",
      "2 4\n",
      "3 4\n",
      "4\n",
      "120\n",
      "8 8\n",
      "10 20 1 5 8 7 1 43\n",
      "1 2\n",
      "1 3\n",
      "2 4\n",
      "2 5\n",
      "3 6\n",
      "5 7\n",
      "6 7\n",
      "7 8\n",
      "7\n",
      "39\n"
     ]
    }
   ],
   "source": [
    "from collections import deque\n",
    "\n",
    "t = int(input())\n",
    "\n",
    "for xxxx in range(t):\n",
    "    N, M = list(map(int, input().split()))\n",
    "\n",
    "    # DAG 구현\n",
    "    degrees = [0 for i in range(N+1)]\n",
    "    adj_list = [[] for i in range(N+1)]\n",
    "    costs = [0] + list(map(int, input().split()))\n",
    "    dists = costs.copy()\n",
    "\n",
    "    for i in range(M):\n",
    "        from_, to_ = list(map(int, input().split()))\n",
    "        adj_list[from_].append(to_)\n",
    "        degrees[to_]+=1\n",
    "\n",
    "    dest = int(input())    \n",
    "\n",
    "    # 위상정렬 with bfs\n",
    "    q = deque()\n",
    "    for i in range(1, N+1):\n",
    "        if degrees[i]==0:\n",
    "            q.append(i)\n",
    "\n",
    "    # results = []\n",
    "\n",
    "    while len(q)!=0:\n",
    "        f = q.popleft()\n",
    "        t = adj_list[f]\n",
    "        # results.append(f)\n",
    "\n",
    "        for to in t:\n",
    "            degrees[to] -= 1\n",
    "            dists[to] = max(dists[to], dists[f]+costs[to])\n",
    "            if degrees[to]==0:\n",
    "                q.append(to)\n",
    "\n",
    "    print(dists[dest])"
   ]
  },
  {
   "cell_type": "markdown",
   "metadata": {},
   "source": [
    "#### 작업\n",
    "https://www.acmicpc.net/problem/2056"
   ]
  },
  {
   "cell_type": "code",
   "execution_count": 22,
   "metadata": {},
   "outputs": [
    {
     "name": "stdout",
     "output_type": "stream",
     "text": [
      "7\n",
      "5 0\n",
      "1 1 1\n",
      "3 1 2\n",
      "6 1 1\n",
      "1 2 2 4\n",
      "8 2 2 4\n",
      "4 3 3 5 6\n"
     ]
    }
   ],
   "source": [
    "from collections import deque\n",
    "\n",
    "N = int(input())\n",
    "\n",
    "# DAG 구현\n",
    "degrees = [0 for i in range(N+1)]\n",
    "adj_list = [[] for i in range(N+1)]\n",
    "costs = [0]*(N+1)\n",
    "\n",
    "for i in range(1, N+1):\n",
    "    cost, degree, *inv_adj = list(map(int, input().split()))\n",
    "    costs[i] = cost\n",
    "    degrees[i] = degree\n",
    "    for inv in inv_adj:\n",
    "        adj_list[inv].append(i)\n",
    "dists = costs.copy()\n",
    "\n",
    "\n",
    "# 위상정렬 with bfs\n",
    "q = deque()\n",
    "for i in range(1, N+1):\n",
    "    if degrees[i]==0:\n",
    "        q.append(i)\n",
    "\n",
    "while len(q)!=0:\n",
    "    f = q.popleft()\n",
    "    t = adj_list[f]\n",
    "    for to in t:\n",
    "        degrees[to] -= 1\n",
    "        dists[to] = max(dists[to], dists[f]+costs[to])\n",
    "        if degrees[to]==0:\n",
    "            q.append(to)\n",
    "print(max(dists))"
   ]
  },
  {
   "cell_type": "markdown",
   "metadata": {},
   "source": [
    "#### 최소스패닝트리\n",
    "https://www.acmicpc.net/problem/1197"
   ]
  },
  {
   "cell_type": "markdown",
   "metadata": {},
   "source": [
    "계획\n",
    "\n",
    "1. edge를 weights가 낮은 순서대로 가장 작은 순서대로 (a,b) 나열한다.\n",
    "\n",
    "2. 각 (a,b)마다 find를 하여서 서로 부모노드가 다르면 union을한다."
   ]
  },
  {
   "cell_type": "code",
   "execution_count": 1,
   "metadata": {},
   "outputs": [
    {
     "name": "stdout",
     "output_type": "stream",
     "text": [
      "3 3\n",
      "1 2 1\n",
      "2 3 2\n",
      "1 3 3\n",
      "3\n"
     ]
    }
   ],
   "source": [
    "N, M = map(int, input().split())\n",
    "\n",
    "weights = []\n",
    "for _ in range(M):\n",
    "    weights.append(tuple(map(int, input().split())))\n",
    "\n",
    "group = [i for i in range(N+1)] # 우선은 노드 자기 자신이 그륩 representative\n",
    "\n",
    "def find(u):\n",
    "    if u!=group[u]:\n",
    "        group[u] = find(group[u])\n",
    "    return group[u]\n",
    "\n",
    "def union(u,v):\n",
    "    root1 = find(u)\n",
    "    root2 = find(v)\n",
    "    group[root2] = root1\n",
    "\n",
    "weights.sort(key = lambda x: x[2])\n",
    "\n",
    "mst = []\n",
    "\n",
    "# 최소 스패닝 트리는 N-1개의 edge를 정의하는 것이다.\n",
    "i = 0\n",
    "while len(mst)!=N-1:\n",
    "    u, v = weights[i][0], weights[i][1]\n",
    "    if find(u)==find(v):\n",
    "        i += 1\n",
    "        continue\n",
    "    else:\n",
    "        union(u,v)\n",
    "        mst.append((weights[i]))\n",
    "        i +=1\n",
    "\n",
    "print(sum([i[2] for i in mst]))"
   ]
  },
  {
   "cell_type": "markdown",
   "metadata": {},
   "source": [
    "# 4. 다익스트라 (최단경로)\n",
    "\n",
    "1. 출발 노드를 설정\n",
    "2. 출발 노드를 기준으로 각 노드의 최소 비용을 저장\n",
    "3. 인접노드를 우선순위 큐에 넣는다\n",
    "4. 해당 노드를 거쳐서 갈 수 있는 노드를 고려한다.\n",
    "5. repeat 3"
   ]
  },
  {
   "cell_type": "markdown",
   "metadata": {},
   "source": [
    "![](./fig/dij/dij.gif)\n",
    "\n",
    "\n",
    "| 노드1 | 노드2 | 노드3 | 노드4 | 노드5 | 노드6   |\n",
    "| ----- | ----- | ----- | ----- | ----- | ------- |\n",
    "| (0)     | 2     | 5     | 1     | 무한  | 무한    |\n",
    "| 0     | 2     | 5=>4  | (1)     | 2     | 무한    |\n",
    "| 0     | (2)     | 4     | 1     | 2     | 무한    |\n",
    "| 0     | 2     | 4=>3  | 1     | (2)     | 무한=>4 |\n",
    "| 0     | 2     | (3)     | 1     | 2     | 4       |\n",
    "| 0     | 2     | 3     | 1     | 2     | (4)       |"
   ]
  },
  {
   "cell_type": "code",
   "execution_count": 8,
   "metadata": {},
   "outputs": [
    {
     "name": "stdout",
     "output_type": "stream",
     "text": [
      "6 10\n",
      "1\n",
      "1 2 2\n",
      "1 3 5\n",
      "1 4 1\n",
      "2 3 3\n",
      "2 4 2\n",
      "3 4 3\n",
      "3 5 1\n",
      "3 6 5\n",
      "4 5 1\n",
      "5 6 2\n"
     ]
    }
   ],
   "source": [
    "import heapq\n",
    "\n",
    "INF = int(1e9)\n",
    "\n",
    "n, m = map(int, input().split())\n",
    "start = int(input())\n",
    "graph = [[] for i in range(n+1)]\n",
    "distance = [INF] * (n+1)\n",
    "\n",
    "for _ in range(m):\n",
    "    a, b, c = map(int, input().split())\n",
    "    graph[a].append((b, c)) # a노드에서 b노드로 가는 비용이 c다.\n",
    "    graph[b].append((a, c))"
   ]
  },
  {
   "cell_type": "code",
   "execution_count": 9,
   "metadata": {},
   "outputs": [],
   "source": [
    "def dijkstra(start):\n",
    "    q = []\n",
    "    heapq.heappush(q, (0, start)) # (cost, node)\n",
    "    distance[start] = 0\n",
    "    # visted[start] = True\n",
    "    \n",
    "    while q: # 큐가 비어있지 않다면\n",
    "        # 가장 최단 거리가 짧은 노드 꺼내기\n",
    "        dist, now = heapq.heappop(q)\n",
    "        # 현재 노드가 이미 처리된 적이 있다면 무시\n",
    "        if distance[now] < dist:\n",
    "            continue\n",
    "            \n",
    "        # 3. 인접노드들 우선순위 큐에 넣는다\n",
    "        for (b, c) in graph[now]:\n",
    "            cost = dist + c\n",
    "            # 4. 해당 노드를 거쳐서 갈 수 있는 노드를 고려한다.\n",
    "            if cost < distance[b]:\n",
    "                distance[b] = cost\n",
    "                heapq.heappush(q, (cost, b))"
   ]
  },
  {
   "cell_type": "code",
   "execution_count": 12,
   "metadata": {},
   "outputs": [
    {
     "data": {
      "text/plain": [
       "[1000000000, 0, 2, 3, 1, 2, 4]"
      ]
     },
     "execution_count": 12,
     "metadata": {},
     "output_type": "execute_result"
    }
   ],
   "source": [
    "distance"
   ]
  },
  {
   "cell_type": "markdown",
   "metadata": {},
   "source": [
    "### 특정한 최단 경로\n",
    "https://www.acmicpc.net/problem/1504"
   ]
  },
  {
   "cell_type": "code",
   "execution_count": 14,
   "metadata": {},
   "outputs": [
    {
     "name": "stdout",
     "output_type": "stream",
     "text": [
      "4 6\n",
      "1 2 3\n",
      "2 3 3\n",
      "3 4 1\n",
      "1 3 5\n",
      "2 4 5\n",
      "1 4 4\n"
     ]
    }
   ],
   "source": [
    "import heapq\n",
    "\n",
    "def dijkstra(start, distance):\n",
    "    q = []\n",
    "    heapq.heappush(q, (0, start)) # (cost, node)\n",
    "    distance[start] = 0\n",
    "    \n",
    "    while q: # 큐가 비어있지 않다면\n",
    "        # 가장 최단 거리가 짧은 노드 꺼내기\n",
    "        dist, now = heapq.heappop(q)\n",
    "        # 현재 노드가 이미 처리된 적이 있다면 무시\n",
    "        if distance[now] < dist:\n",
    "            continue\n",
    "            \n",
    "        # 3. 인접노드들 우선순위 큐에 넣는다\n",
    "        for (b, c) in graph[now]:\n",
    "            cost = dist + c\n",
    "            # 4. 해당 노드를 거쳐서 갈 수 있는 노드를 고려한다.\n",
    "            if cost < distance[b]:\n",
    "                distance[b] = cost\n",
    "                heapq.heappush(q, (cost, b))\n",
    "\n",
    "INFTY = 1e5\n",
    "\n",
    "n_node, n_edge = map(int, input().split())\n",
    "\n",
    "\n",
    "graph = [[] for _ in range(n_node+1)]\n",
    "distance1 = [INFTY for _ in range(n_node+1)]\n",
    "distance2 = [INFTY for _ in range(n_node+1)]\n",
    "distance3 = [INFTY for _ in range(n_node+1)]\n",
    "\n",
    "for _ in range(n_edge):\n",
    "    a, b, c = map(int, input().split())\n",
    "    graph[a].append((b, c))\n",
    "    graph[b].append((a, c))\n",
    "\n",
    "mid1, mid2 = map(int, input().split())\n",
    "\n",
    "start = 1\n",
    "end = n_node\n",
    "\n",
    "dijkstra(start, distance1)\n",
    "dijkstra(mid1, distance2)\n",
    "dijkstra(mid2, distance3)\n",
    "\n",
    "cost = min(distance1[mid1] + distance2[mid2] + distance3[end], distance1[mid2] + distance3[mid1] + distance2[end])\n",
    "\n",
    "if cost < INFTY:\n",
    "    print(cost)\n",
    "else:\n",
    "    print(-1)"
   ]
  },
  {
   "cell_type": "markdown",
   "metadata": {},
   "source": [
    "### 파티\n",
    "\n",
    "https://www.acmicpc.net/problem/1238\n",
    "\n",
    "다익스트라 1000번"
   ]
  },
  {
   "cell_type": "code",
   "execution_count": null,
   "metadata": {},
   "outputs": [],
   "source": [
    "4 8 2\n",
    "1 2 4\n",
    "1 3 2\n",
    "1 4 7\n",
    "2 1 1\n",
    "2 3 5\n",
    "3 1 2\n",
    "3 4 4\n",
    "4 2 3"
   ]
  },
  {
   "cell_type": "code",
   "execution_count": 43,
   "metadata": {},
   "outputs": [
    {
     "name": "stdout",
     "output_type": "stream",
     "text": [
      "4 8 2\n",
      "1 2 4\n",
      "1 3 2\n",
      "1 4 7\n",
      "2 1 1\n",
      "2 3 5\n",
      "3 1 2\n",
      "3 4 4\n",
      "4 2 3\n",
      "10\n"
     ]
    }
   ],
   "source": [
    "N, M, X = map(int, input().split())\n",
    "graph = [[] for _ in range(N+1)]\n",
    "for _ in range(M):\n",
    "    start, dest, dist = map(int, input().split())\n",
    "    graph[start].append((dest, dist))\n",
    "\n",
    "import heapq\n",
    "INFTY = 1e9\n",
    "def dijkstra(start):\n",
    "    distance = [INFTY] * (N+1)\n",
    "    q = []\n",
    "    heapq.heappush(q, (start, 0))\n",
    "    distance[start] = 0\n",
    "\n",
    "    while q:\n",
    "        now, dist = heapq.heappop(q)\n",
    "        if distance[now] < dist:\n",
    "            continue\n",
    "        \n",
    "        for (c_node, c_dist) in graph[now]:\n",
    "            cost = dist + c_dist\n",
    "            if cost < distance[c_node]:\n",
    "                distance[c_node] = cost\n",
    "                heapq.heappush(q, (c_node, cost))\n",
    "    \n",
    "    return distance\n",
    "\n",
    "temp = [dijkstra(i) for i in range(N+1)]\n",
    "print(max([temp[i][X] + temp[X][i] for i in range(1, N+1)]))"
   ]
  },
  {
   "cell_type": "markdown",
   "metadata": {},
   "source": [
    "### 최단경로\n",
    "https://www.acmicpc.net/problem/1753"
   ]
  },
  {
   "cell_type": "code",
   "execution_count": 23,
   "metadata": {},
   "outputs": [
    {
     "name": "stdout",
     "output_type": "stream",
     "text": [
      "5 6\n",
      "1\n",
      "5 1 1\n",
      "1 2 2\n",
      "1 3 3\n",
      "2 3 4\n",
      "2 4 5\n",
      "3 4 6\n",
      "0\n",
      "2\n",
      "3\n",
      "7\n",
      "INF\n"
     ]
    }
   ],
   "source": [
    "import heapq\n",
    "\n",
    "n_node, n_edge = map(int, input().split())\n",
    "\n",
    "start = int(input())\n",
    "\n",
    "graph = [[] for _ in range(n_node+1)]\n",
    "\n",
    "for _ in range(n_edge):\n",
    "    a, b, c = map(int, input().split())\n",
    "    graph[a].append((b, c))\n",
    "###\n",
    "# ALGO\n",
    "###\n",
    "INFTY = 1e10\n",
    "cost = [INFTY] * (n_node + 1)\n",
    "q = []\n",
    "heapq.heappush(q, (0, start))\n",
    "cost[start] = 0\n",
    "\n",
    "while q:\n",
    "    cost_candidate, node = heapq.heappop(q)\n",
    "    if cost[node] < cost_candidate:\n",
    "        continue\n",
    "    for b, c in graph[node]:\n",
    "        cost_b = cost_candidate + c\n",
    "        if cost[b] > cost_b:\n",
    "            heapq.heappush(q, (cost_b, b))\n",
    "            cost[b] = cost_b\n",
    "###\n",
    "# ANS\n",
    "###\n",
    "for c in cost[1:]:\n",
    "    if c == INFTY:\n",
    "        print('INF')\n",
    "    else:\n",
    "        print(c)"
   ]
  },
  {
   "cell_type": "code",
   "execution_count": null,
   "metadata": {},
   "outputs": [],
   "source": [
    "5 6\n",
    "1\n",
    "5 1 1\n",
    "1 2 2\n",
    "1 3 3\n",
    "2 3 4\n",
    "2 4 5\n",
    "3 4 6"
   ]
  }
 ],
 "metadata": {
  "kernelspec": {
   "display_name": "Python 3",
   "language": "python",
   "name": "python3"
  },
  "language_info": {
   "codemirror_mode": {
    "name": "ipython",
    "version": 3
   },
   "file_extension": ".py",
   "mimetype": "text/x-python",
   "name": "python",
   "nbconvert_exporter": "python",
   "pygments_lexer": "ipython3",
   "version": "3.8.8"
  }
 },
 "nbformat": 4,
 "nbformat_minor": 2
}
