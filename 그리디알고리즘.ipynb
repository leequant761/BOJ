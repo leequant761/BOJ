{
 "cells": [
  {
   "cell_type": "markdown",
   "id": "utility-updating",
   "metadata": {},
   "source": [
    "# 그리디 알고리즘\n",
    "\n",
    "해당 문제를 풀기 위한 최소한의 아이디어를 생각해내면 된다.\n",
    "\n",
    "코딩테스트 에선, 그리디 알고리즘이 최적해임을 보장하지만 그리디 알고리즘을 떠올리는 것은 본인의 몫이다.\n",
    "\n",
    "잔돈을 거슬러주는 문제는 큰동전부터 채우고 그다음 작은동전으로 채우면 해결되는데 이의 근간엔 큰단위가 작은단위의 배수라는 사실이다.\n",
    "\n",
    "이 근간을 떠올려야 그리디한 접근법이 최적해일 지 알 수 있다."
   ]
  },
  {
   "cell_type": "markdown",
   "id": "exceptional-audio",
   "metadata": {},
   "source": [
    "### 회의실 배정\n",
    "https://www.acmicpc.net/problem/1931"
   ]
  },
  {
   "cell_type": "markdown",
   "id": "hourly-first",
   "metadata": {},
   "source": [
    "#### 아이디어\n",
    "\n",
    "현재 시간 t까지 도달했고 가능한 회의의 목록이 (회의1, 회의2, 회의3, 회의 4)가 있다고 하자.\n",
    "\n",
    "누가 빨리 회의를 시작할 지는 관심이 없다. 왜냐면 회의를 오래하면 늦게 시작한 것만도 못하기 때문이다.\n",
    "\n",
    "결론은 누가 빨리 회의를 끝내줄 지만 관심 있다.\n",
    "\n",
    "그래서 일단 종료 시간으로 정렬을 한 다음에 회의가 가능한 지 여부를 테스트하면 된다."
   ]
  },
  {
   "cell_type": "code",
   "execution_count": 5,
   "id": "lightweight-nancy",
   "metadata": {},
   "outputs": [],
   "source": [
    "import sys\n",
    "\n",
    "input = sys.stdin.readline\n",
    "\n",
    "n_query = int(input())\n",
    "\n",
    "times = []\n",
    "for _ in range(n_query):\n",
    "    times.append(tuple(map(int, input().split())))\n",
    "times = sorted(times, key=lambda x: x[0]) # 시작시간 1 종료시간 1인 경우를 따로 처리하기 귀찮아서\n",
    "times = sorted(times, key=lambda x: x[1])\n",
    "\n",
    "count = 0\n",
    "current_time = 0\n",
    "\n",
    "for time in times:\n",
    "    start_time, end_time = time\n",
    "    if start_time < current_time:\n",
    "        continue\n",
    "    else:\n",
    "        current_time = end_time\n",
    "        count += 1\n",
    "\n",
    "print(count)"
   ]
  }
 ],
 "metadata": {
  "kernelspec": {
   "display_name": "Python 3",
   "language": "python",
   "name": "python3"
  },
  "language_info": {
   "codemirror_mode": {
    "name": "ipython",
    "version": 3
   },
   "file_extension": ".py",
   "mimetype": "text/x-python",
   "name": "python",
   "nbconvert_exporter": "python",
   "pygments_lexer": "ipython3",
   "version": "3.8.8"
  }
 },
 "nbformat": 4,
 "nbformat_minor": 5
}
