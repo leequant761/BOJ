{
 "cells": [
  {
   "cell_type": "markdown",
   "id": "alone-confusion",
   "metadata": {},
   "source": [
    "### 제곱 ㄴㄴ수\n",
    "https://www.acmicpc.net/problem/1016"
   ]
  },
  {
   "cell_type": "markdown",
   "id": "prescription-tunnel",
   "metadata": {},
   "source": [
    "전략\n",
    "1. n_min은 1조까지 될 수 있으나 구간의 길이는 1백만이다. 즉 탐색해야할 숫자는 100만개 내외로 줄일 수 있다.\n",
    "2. 100만의 제곱이 1조이다."
   ]
  },
  {
   "cell_type": "code",
   "execution_count": 49,
   "id": "adjustable-prospect",
   "metadata": {},
   "outputs": [
    {
     "name": "stdout",
     "output_type": "stream",
     "text": [
      "0 100\n",
      "61\n"
     ]
    }
   ],
   "source": [
    "n_min, n_max = map(int, input().split())\n",
    "\n",
    "is_square = [False] * (n_max - n_min + 1)\n",
    "\n",
    "max_test_root = int(n_max ** 0.5)\n",
    "\n",
    "for test_root in range(2, max_test_root+1):\n",
    "    test = test_root**2\n",
    "    quotient = n_min // test\n",
    "    min_test = test * quotient if n_min % test == 0 else test * quotient + test\n",
    "    \n",
    "    if min_test > n_max:\n",
    "        continue\n",
    "    \n",
    "    for test in range(min_test, n_max+1, test):\n",
    "        is_square[test-n_min] = True\n",
    "\n",
    "print(len(is_square) - sum(is_square))"
   ]
  }
 ],
 "metadata": {
  "kernelspec": {
   "display_name": "Python 3",
   "language": "python",
   "name": "python3"
  },
  "language_info": {
   "codemirror_mode": {
    "name": "ipython",
    "version": 3
   },
   "file_extension": ".py",
   "mimetype": "text/x-python",
   "name": "python",
   "nbconvert_exporter": "python",
   "pygments_lexer": "ipython3",
   "version": "3.8.8"
  }
 },
 "nbformat": 4,
 "nbformat_minor": 5
}
