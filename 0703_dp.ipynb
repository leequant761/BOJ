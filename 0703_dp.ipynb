{
 "cells": [
  {
   "cell_type": "markdown",
   "metadata": {},
   "source": [
    "# DP\n",
    "\n",
    "## 바텀업 : 점화식을 완벽히 알 때\n",
    "\n",
    "0. 일단 n사이즈의 0 리스트를 만든다.\n",
    "1. 초기화를 한 뒤에\n",
    "2. 점화식을 이용해 이어나간다.\n",
    "\n",
    "## 탑다운\n",
    "\n",
    "은 정확히 점화식은 모르지만 목표점에서 이전에 무슨 식들 중 하나에서 온 걸 알 때 일단 ct"
   ]
  },
  {
   "cell_type": "markdown",
   "metadata": {},
   "source": [
    "### 숨바꼭질\n",
    "\n",
    "https://www.acmicpc.net/problem/1697"
   ]
  },
  {
   "cell_type": "code",
   "execution_count": null,
   "metadata": {},
   "outputs": [],
   "source": [
    "from collections import deque\n",
    "\n",
    "trace = [None] * 100001\n",
    "\n",
    "N, K = map(int, input().split())\n",
    "\n",
    "queue = deque([N])\n",
    "\n",
    "count = 0\n",
    "temp = []\n",
    "\n",
    "while trace[K] is None:\n",
    "    n = queue.popleft()\n",
    "    \n",
    "    if trace[n] is None:\n",
    "        trace[n] = count\n",
    "        \n",
    "    next_steps = n-1, n+1, 2*n\n",
    "    for next_step in next_steps:\n",
    "        if next_step >= 0 and next_step <= 100000 and trace[next_step] is None:\n",
    "            temp.append(next_step)\n",
    "            \n",
    "    if len(queue) == 0:\n",
    "        count += 1\n",
    "        for next_step in temp:\n",
    "            queue.append(next_step)\n",
    "        temp = []\n",
    "\n",
    "print(trace[K])"
   ]
  },
  {
   "cell_type": "markdown",
   "metadata": {},
   "source": [
    "### 1로 만들기\n",
    "https://www.acmicpc.net/problem/1463"
   ]
  },
  {
   "cell_type": "markdown",
   "metadata": {},
   "source": [
    "계획 O(N)\n",
    "\n",
    "> 바텀업 (리스트 만들기)"
   ]
  },
  {
   "cell_type": "code",
   "execution_count": 25,
   "metadata": {},
   "outputs": [
    {
     "name": "stdout",
     "output_type": "stream",
     "text": [
      "10\n"
     ]
    }
   ],
   "source": [
    "n = int(input())\n",
    "\n",
    "dp = [0] * (n+1)\n",
    "dp[1] = 0\n",
    "\n",
    "for i in range(2, n+1):\n",
    "    dp[i] = dp[i-1] + 1\n",
    "    if i % 3 == 0 and dp[i] > dp[i//3]+1:\n",
    "        dp[i] = dp[i//3]+1\n",
    "    elif i % 2 == 0 and dp[i] > dp[i//2]+1:\n",
    "        dp[i] = dp[i//2]+1\n",
    "\n",
    "print(dp[-1])"
   ]
  },
  {
   "cell_type": "markdown",
   "metadata": {},
   "source": [
    "### 1 2 3 더하기\n",
    "https://www.acmicpc.net/problem/909"
   ]
  },
  {
   "cell_type": "markdown",
   "metadata": {},
   "source": [
    "계획 : 바텀업 (리스트 만들기) O(N)\n",
    "\n",
    "> 1. n을 표현하는 경우의 수 = (첫자리에 1이 나온 경우의 수) + (첫자리에 2가 나온 경우의 수) + (첫자리에 3이 나온 경우의 수)\n",
    "2. dp[n] = dp[n-1] + dp[n-2] + dp[n-3]"
   ]
  },
  {
   "cell_type": "code",
   "execution_count": 51,
   "metadata": {},
   "outputs": [],
   "source": [
    "dp = [0] * (10 + 1)\n",
    "\n",
    "dp[1] = 1\n",
    "dp[2] = 2\n",
    "dp[3] = 4\n",
    "\n",
    "for i in range(4, 11):\n",
    "    dp[i] = dp[i-1] + dp[i-2] + dp[i-3]\n",
    "\n",
    "for _ in range(int(input())):\n",
    "    print(dp[int(input())])"
   ]
  },
  {
   "cell_type": "markdown",
   "metadata": {},
   "source": [
    "### 카드 구매하기\n",
    "\n",
    "https://www.acmicpc.net/problem/11052"
   ]
  },
  {
   "cell_type": "markdown",
   "metadata": {},
   "source": [
    "계획 : 바텀업\n",
    "> 1. dp[n] = max(dp[1]+p[n-1], ..., dp[n-1]+p[1], p[n])"
   ]
  },
  {
   "cell_type": "code",
   "execution_count": 63,
   "metadata": {},
   "outputs": [
    {
     "name": "stdout",
     "output_type": "stream",
     "text": [
      "10\n",
      "1 1 2 3 5 8 13 21 34 55\n",
      "55\n"
     ]
    }
   ],
   "source": [
    "n = int(input())\n",
    "p = [0] + list(map(int, input().split()))\n",
    "dp = [0] * (n+1)\n",
    "\n",
    "dp[1] = p[1]\n",
    "for i in range(2, n+1):\n",
    "    temp = [dp[j]+p[i-j] for j in range(1, i)] + [p[i]]\n",
    "    dp[i] = max(temp)\n",
    "    \n",
    "print(dp[-1])"
   ]
  },
  {
   "cell_type": "markdown",
   "metadata": {},
   "source": [
    "### 피보나치 함수\n",
    "https://www.acmicpc.net/problem/1003"
   ]
  },
  {
   "cell_type": "markdown",
   "metadata": {},
   "source": [
    "계획 : 바텀업\n",
    "> 1. dp1[n] = dp1[n-1] + dp[n-2]\n",
    "2. dp0[n] = dp0[n-1]] + dp0[n-2]"
   ]
  },
  {
   "cell_type": "code",
   "execution_count": 70,
   "metadata": {},
   "outputs": [
    {
     "name": "stdout",
     "output_type": "stream",
     "text": [
      "3\n",
      "0\n",
      "0 1\n",
      "1\n",
      "1 0\n",
      "3\n",
      "2 1\n"
     ]
    }
   ],
   "source": [
    "T = int(input())\n",
    "\n",
    "dp1 = [0] * (40+1)\n",
    "dp0 = [0] * (40+1)\n",
    "dp1[0], dp0[0] = 0, 1\n",
    "dp1[1], dp0[1] = 1, 0\n",
    "\n",
    "for i in range(2, 41):\n",
    "    dp1[i] = dp1[i-1] + dp1[i-2]\n",
    "    dp0[i] = dp0[i-1] + dp0[i-2]\n",
    "\n",
    "for _ in range(T):\n",
    "    i = int(input())\n",
    "    print(f'{dp0[i]} {dp1[i]}')"
   ]
  },
  {
   "cell_type": "markdown",
   "metadata": {},
   "source": [
    "### 2×n 타일링\n",
    "\n",
    "https://www.acmicpc.net/problem/11726"
   ]
  },
  {
   "cell_type": "code",
   "execution_count": 9,
   "metadata": {},
   "outputs": [
    {
     "name": "stdout",
     "output_type": "stream",
     "text": [
      "2\n",
      "2\n"
     ]
    }
   ],
   "source": [
    "n = int(input())\n",
    "\n",
    "dp = [0] * (n+1)\n",
    "dp[1] = 1\n",
    "dp[2] = 2\n",
    "\n",
    "for i in range(3, n+1):\n",
    "    dp[i] = dp[i-1] + dp[i-2]\n",
    "\n",
    "print(dp[n] / 10007)"
   ]
  },
  {
   "cell_type": "markdown",
   "metadata": {},
   "source": [
    "### 카드 구매하기2\n",
    "\n",
    "https://www.acmicpc.net/problem/16194"
   ]
  },
  {
   "cell_type": "code",
   "execution_count": 79,
   "metadata": {},
   "outputs": [
    {
     "name": "stdout",
     "output_type": "stream",
     "text": [
      "10\n",
      "5 10 11 12 13 30 35 40 45 47\n",
      "26\n"
     ]
    }
   ],
   "source": [
    "N = int(input())\n",
    "p = list(map(int, input().split()))\n",
    "\n",
    "d = [0]*N\n",
    "d[0] = p[0]\n",
    "\n",
    "for n in range(1,N):\n",
    "    # 3\n",
    "    # 21 12 3\n",
    "    temp = [d[n-1-i]+p[i] for i in range(n)]\n",
    "    temp.append(p[n])\n",
    "    d[n] = min(temp.copy())\n",
    "\n",
    "print(d[-1])"
   ]
  },
  {
   "cell_type": "markdown",
   "metadata": {},
   "source": [
    "### 1, 2, 3 더하기 5\n",
    "https://www.acmicpc.net/problem/15990"
   ]
  },
  {
   "cell_type": "markdown",
   "metadata": {},
   "source": [
    "d[n] = (d[n-1] - #1) + (d[n-2] - #2) + (d[n-3] - #3)"
   ]
  },
  {
   "cell_type": "code",
   "execution_count": 16,
   "metadata": {},
   "outputs": [],
   "source": [
    "d = [0]*100001 # 표현 가지수\n",
    "t = [0]*100001 # 표현 방법들\n",
    "\n",
    "d[1] = 1\n",
    "t[1] = ['1']\n",
    "\n",
    "d[2] = 2\n",
    "t[2] = ['2']\n",
    "\n",
    "d[3] = 4\n",
    "t[3] = ['12', '21', '3']\n",
    "\n",
    "for n in range(4, 10):\n",
    "    t[n] = ['1'+i for i in t[n-1] if i[0]!='1'] + ['2'+i for i in t[n-2] if i[0]!='2'] + ['3'+i for i in t[n-3] if i[0]!='3']\n",
    "    d[n] = len(t[n])"
   ]
  },
  {
   "cell_type": "markdown",
   "metadata": {},
   "source": [
    "위의 방식은 메모리떄문에 안된다"
   ]
  },
  {
   "cell_type": "markdown",
   "metadata": {},
   "source": [
    "### RGB거리\n",
    "https://www.acmicpc.net/problem/1149"
   ]
  },
  {
   "source": [
    "점화식\n",
    "\n",
    "$a_{n, 1} = p_{n, 1} + min(a_{n-1, 2}, a_{n-1, 3})$\n",
    "\n",
    "$a_{n, 2} = p_{n, 2} + min(a_{n-1, 1}, a_{n-1, 3})$\n",
    "\n",
    "$a_{n, 3} = p_{n, 3} + min(a_{n-1, 1}, a_{n-1, 2})$\n",
    "\n",
    "a_{n, i} 는 n시점에 i번쨰 집을 고를 때 최소 비용"
   ],
   "cell_type": "markdown",
   "metadata": {}
  },
  {
   "cell_type": "code",
   "execution_count": 30,
   "metadata": {},
   "outputs": [
    {
     "output_type": "stream",
     "name": "stdout",
     "text": [
      "0\n"
     ]
    }
   ],
   "source": [
    "n_house = int(input())\n",
    "prices = [[0, 0, 0]]\n",
    "for _ in range(n_house):\n",
    "    house_price = list(map(int, input().split()))\n",
    "    prices.append(house_price)\n",
    "\n",
    "dp = [[0, 0, 0] for _ in range(n_house+1)]\n",
    "for i in range(1, n_house+1):\n",
    "    dp[i][0] = prices[i][0] + min(dp[i-1][1], dp[i-1][2])\n",
    "    dp[i][1] = prices[i][1] + min(dp[i-1][0], dp[i-1][2])\n",
    "    dp[i][2] = prices[i][2] + min(dp[i-1][0], dp[i-1][1])\n",
    "\n",
    "print(min(dp[-1]))"
   ]
  },
  {
   "cell_type": "code",
   "execution_count": 18,
   "metadata": {},
   "outputs": [],
   "source": []
  },
  {
   "cell_type": "code",
   "execution_count": 19,
   "metadata": {},
   "outputs": [],
   "source": []
  },
  {
   "cell_type": "code",
   "execution_count": 17,
   "metadata": {},
   "outputs": [],
   "source": []
  },
  {
   "cell_type": "code",
   "execution_count": 24,
   "metadata": {},
   "outputs": [],
   "source": []
  },
  {
   "cell_type": "code",
   "execution_count": 27,
   "metadata": {},
   "outputs": [
    {
     "output_type": "stream",
     "name": "stdout",
     "text": [
      "96\n"
     ]
    }
   ],
   "source": []
  },
  {
   "cell_type": "markdown",
   "metadata": {},
   "source": [
    "### 2×n 타일링 2 \n",
    "\n",
    "https://www.acmicpc.net/problem/11727"
   ]
  },
  {
   "cell_type": "code",
   "execution_count": 59,
   "metadata": {},
   "outputs": [
    {
     "name": "stdout",
     "output_type": "stream",
     "text": [
      "12\n",
      "2731\n"
     ]
    }
   ],
   "source": [
    "N = int(input())\n",
    "\n",
    "d = [0]*(N+1)\n",
    "\n",
    "d[1] = 1\n",
    "\n",
    "d[2] = 3\n",
    "\n",
    "for n in range(3,N+1):\n",
    "    d[n] = d[n-1] + 2*d[n-2]\n",
    "\n",
    "print(d[-1]%10007)"
   ]
  },
  {
   "cell_type": "markdown",
   "metadata": {},
   "source": [
    "### 1, 2, 3 더하기\n",
    "\n",
    "https://www.acmicpc.net/problem/9095"
   ]
  },
  {
   "cell_type": "code",
   "execution_count": 61,
   "metadata": {},
   "outputs": [],
   "source": [
    "memo = [0]* (11+1)\n",
    "def dp(n):\n",
    "    if n==1: return 1\n",
    "    elif n==2: return 2\n",
    "    elif n==3: return 4\n",
    "    if memo[n]>0: return memo[n]\n",
    "    return (dp(n-1) + dp(n-2) + dp(n-3))\n",
    "\n",
    "for i in range(int(input())):\n",
    "    print(dp(int(input())))"
   ]
  },
  {
   "cell_type": "code",
   "execution_count": 63,
   "metadata": {},
   "outputs": [
    {
     "data": {
      "text/plain": [
       "274"
      ]
     },
     "execution_count": 63,
     "metadata": {},
     "output_type": "execute_result"
    }
   ],
   "source": [
    "dp(10)"
   ]
  },
  {
   "cell_type": "markdown",
   "metadata": {},
   "source": [
    "### 1로 만들기\n",
    "\n",
    "https://www.acmicpc.net/problem/1463"
   ]
  },
  {
   "cell_type": "code",
   "execution_count": 77,
   "metadata": {},
   "outputs": [
    {
     "name": "stdout",
     "output_type": "stream",
     "text": [
      "10\n",
      "3\n"
     ]
    }
   ],
   "source": [
    "memo = [0]* (1000000+1)\n",
    "def dp(n):\n",
    "    if n==1: return 0\n",
    "    elif n==2: return 1\n",
    "    elif n==3: return 1\n",
    "    if memo[n]>0: return memo[n]\n",
    "    \n",
    "    if n%3==0:\n",
    "        memo[n] = dp(n//3)+1\n",
    "        return dp(n//3)+1\n",
    "    elif (n-1)%3==0:\n",
    "        memo[n] = dp((n-1)//3)+2\n",
    "        return dp((n-1)//3)+2\n",
    "    elif n%2==0:\n",
    "        memo[n] = dp(n//2)+1\n",
    "        return dp(n//2)+1\n",
    "    else:\n",
    "        memo[n] = dp(n-1)+1\n",
    "        return dp(n-1)+1\n",
    "\n",
    "print(dp(int(input())))"
   ]
  }
 ],
 "metadata": {
  "kernelspec": {
   "display_name": "Python 3",
   "language": "python",
   "name": "python3"
  },
  "language_info": {
   "codemirror_mode": {
    "name": "ipython",
    "version": 3
   },
   "file_extension": ".py",
   "mimetype": "text/x-python",
   "name": "python",
   "nbconvert_exporter": "python",
   "pygments_lexer": "ipython3",
   "version": "3.8.8-final"
  }
 },
 "nbformat": 4,
 "nbformat_minor": 2
}