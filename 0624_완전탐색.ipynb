{
 "cells": [
  {
   "cell_type": "markdown",
   "metadata": {},
   "source": [
    "# 1. 브루트 포스(그냥 다 해보기)\n",
    "\n",
    "## STEP\n",
    "> 1. 가능한 경우의 수 생각해보기\n",
    "2. 가능한 경우의 수 구현(for, 순열, 재귀호출, 비트마스크)"
   ]
  },
  {
   "cell_type": "markdown",
   "metadata": {},
   "source": [
    "### 일곱난장이\n",
    "\n",
    "https://www.acmicpc.net/problem/2309"
   ]
  },
  {
   "cell_type": "markdown",
   "metadata": {},
   "source": [
    "계획 O(N**2)\n",
    "\n",
    "1. 9개의 숫자 중에서 2개를 뺀다. $\\left(\\begin{array}{l}{9} \\\\ {2}\\end{array}\\right)$\n",
    "2. (1,2), (1,3), (1,4), ... (6,7),(6,8),(6,9) (7,8), (7,9),(8,9),"
   ]
  },
  {
   "cell_type": "code",
   "execution_count": 20,
   "metadata": {},
   "outputs": [
    {
     "name": "stdout",
     "output_type": "stream",
     "text": [
      "20\n",
      "7\n",
      "23\n",
      "19\n",
      "10\n",
      "15\n",
      "25\n",
      "8\n",
      "13\n"
     ]
    }
   ],
   "source": [
    "height_list = [int(input()) for i in range(9)]\n",
    "sum_height = sum(height_list)\n",
    "\n",
    "def func():\n",
    "    for i in range(len(height_list)-1):\n",
    "        for j in range(i+1, len(height_list)):\n",
    "            if sum_height - height_list[i] - height_list[j] == 100:\n",
    "                return i, j\n",
    "\n",
    "i, j = func()\n",
    "\n",
    "del height_list[i]\n",
    "del height_list[j-1] # 파이썬엔 동시에 제거하는 기능이 없다\n",
    "\n",
    "height_list.sort()\n",
    "\n",
    "for height in height_list:\n",
    "    print(height)"
   ]
  },
  {
   "cell_type": "markdown",
   "metadata": {},
   "source": [
    "### 연도문제\n",
    "https://www.acmicpc.net/problem/1476\n"
   ]
  },
  {
   "cell_type": "markdown",
   "metadata": {},
   "source": [
    "> 1. E, S, M을 1씩 올린다.\n",
    "2. 조건식이 맞으면 count 뱉기"
   ]
  },
  {
   "cell_type": "code",
   "execution_count": 60,
   "metadata": {},
   "outputs": [
    {
     "name": "stdout",
     "output_type": "stream",
     "text": [
      "1 2 3\n",
      "5266\n"
     ]
    }
   ],
   "source": [
    "year = list(map(int, input().split()))\n",
    "\n",
    "e, s, m = 1, 1, 1\n",
    "\n",
    "count = 1\n",
    "while not (e==year[0] and s==year[1] and m==year[2]):\n",
    "    e %= 15\n",
    "    s %= 28\n",
    "    m %= 19\n",
    "    e += 1\n",
    "    s += 1\n",
    "    m += 1\n",
    "    count += 1\n",
    "print(count)"
   ]
  },
  {
   "cell_type": "markdown",
   "metadata": {},
   "source": [
    "# 2. 브루트 포스(N중 for문)"
   ]
  },
  {
   "cell_type": "markdown",
   "metadata": {},
   "source": [
    "### 1, 2, 3 더하기\n",
    "https://www.acmicpc.net/problem/9095"
   ]
  },
  {
   "cell_type": "markdown",
   "metadata": {},
   "source": [
    "계획  O(3**N)\n",
    "\n",
    "> 1. input이 1~10 이라는 것이 보장되므로 1,2,3 이 적힌 카드 10장을 뽑자.\n",
    "2. 순서대로 까면서 합이 주어진 input과 같으면 카운트를 올린다.\n",
    "\n",
    "나중에 DP에서 더 빨리 구하는 방법을 소개하겠다"
   ]
  },
  {
   "cell_type": "code",
   "execution_count": 76,
   "metadata": {},
   "outputs": [],
   "source": [
    "def func(n):\n",
    "    ct = 0\n",
    "    for i1 in range(1,4):\n",
    "        if n == i1:\n",
    "            ct += 1\n",
    "        for i2 in range(1,4):\n",
    "            if n == i1+i2:\n",
    "                ct += 1\n",
    "            for i3 in range(1,4):\n",
    "                if n == i1+i2+i3:\n",
    "                    ct += 1\n",
    "                for i4 in range(1,4):\n",
    "                    if n == i1+i2+i3+i4:\n",
    "                        ct += 1\n",
    "                    for i5 in range(1,4):\n",
    "                        if n == i1+i2+i3+i4+i5:\n",
    "                            ct += 1\n",
    "                        for i6 in range(1,4):\n",
    "                            if n == i1+i2+i3+i4+i5+i6:\n",
    "                                ct += 1\n",
    "                            for i7 in range(1,4):\n",
    "                                if n == i1+i2+i3+i4+i5+i6+i7:\n",
    "                                    ct += 1\n",
    "                                for i8 in range(1,4):\n",
    "                                    if n == i1+i2+i3+i4+i5+i6+i7+i8:\n",
    "                                        ct += 1\n",
    "                                    for i9 in range(1,4):\n",
    "                                        if n == i1+i2+i3+i4+i5+i6+i7+i8+i9:\n",
    "                                            ct += 1\n",
    "                                        for i10 in range(1,4):\n",
    "                                            if n == i1+i2+i3+i4+i5+i6+i7+i8+i9+i10:\n",
    "                                                ct += 1\n",
    "    return ct\n",
    "\n",
    "n_query = int(input())\n",
    "\n",
    "for _ in range(n_query):\n",
    "    print(func(int(input())))"
   ]
  },
  {
   "cell_type": "markdown",
   "metadata": {},
   "source": [
    "# 3. 브루트포스(순열 구하기)"
   ]
  },
  {
   "cell_type": "markdown",
   "metadata": {},
   "source": [
    "### 다음 순열 구하기\n",
    "https://www.acmicpc.net/problem/10972"
   ]
  },
  {
   "cell_type": "markdown",
   "metadata": {},
   "source": [
    "계획(사실 암기임) O(N)\n",
    "1. $i_{max} = \\operatorname{max}_i{A[i-1]<A[i]}$  (여기서 선택이 안되면 그냥 종료)\n",
    "2. $j = \\operatorname{max}_{j\\geq i_{max}} {A[i_{max}-1] < A[j]}$\n",
    "3. swap ${A[i_{max}-1], A[j]}$\n",
    "4. reverse ${A[i_{max}:]}$"
   ]
  },
  {
   "cell_type": "code",
   "execution_count": 7,
   "metadata": {},
   "outputs": [
    {
     "name": "stdout",
     "output_type": "stream",
     "text": [
      "4\n",
      "1 2 3 4\n",
      "1 2 4 3 "
     ]
    }
   ],
   "source": [
    "length = int(input())\n",
    "\n",
    "query = list(map(int, input().split()))\n",
    "\n",
    "# 1\n",
    "i_max = None\n",
    "for i in range(1, length):\n",
    "    if query[i-1] < query[i]:\n",
    "        i_max = i\n",
    "\n",
    "j = None\n",
    "if i_max is not None:\n",
    "    # 2\n",
    "    for j_ in range(i_max, length):\n",
    "        if query[i_max-1] < query[j_]:\n",
    "            j = j_\n",
    "    \n",
    "    # 3\n",
    "    temp1 = query[i_max-1]\n",
    "    temp2 = query[j]\n",
    "    query[i_max-1] = temp2\n",
    "    query[j] = temp1\n",
    "    \n",
    "    # 4\n",
    "    query[i_max:] = reversed(query[i_max:])\n",
    "    \n",
    "    for num in query:\n",
    "        print(num, end=' ')\n",
    "else:\n",
    "    print(-1)"
   ]
  },
  {
   "cell_type": "markdown",
   "metadata": {},
   "source": [
    "### 이전 순열 구하기\n",
    "https://www.acmicpc.net/problem/10973"
   ]
  },
  {
   "cell_type": "markdown",
   "metadata": {},
   "source": [
    "계획(사실 암기임) O(N)\n",
    "1. $i_{min} = \\operatorname{max}_i{A[i-1]>A[i]}$  (여기서 선택이 안되면 그냥 종료)\n",
    "2. $j = \\operatorname{max}_{j\\geq i_{min}} {A[i_{min}-1] > A[j]}$\n",
    "3. swap ${A[i_{min}-1], A[j]}$\n",
    "4. reverse ${A[i_{min}:]}$"
   ]
  },
  {
   "cell_type": "code",
   "execution_count": 3,
   "metadata": {},
   "outputs": [
    {
     "name": "stdout",
     "output_type": "stream",
     "text": [
      "5\n",
      "5 1 2 3 4\n",
      "4 5 3 2 1 "
     ]
    }
   ],
   "source": [
    "length = int(input())\n",
    "\n",
    "query = list(map(int, input().split()))\n",
    "\n",
    "# 1\n",
    "i_min = None\n",
    "for i in range(1, length):\n",
    "    if query[i-1] > query[i]:\n",
    "        i_min = i\n",
    "\n",
    "j = None\n",
    "if i_min is not None:\n",
    "    # 2\n",
    "    for j_ in range(i_min, length):\n",
    "        if query[i_min-1] > query[j_]:\n",
    "            j = j_\n",
    "    \n",
    "    # 3\n",
    "    temp1 = query[i_min-1]\n",
    "    temp2 = query[j]\n",
    "    query[i_min-1] = temp2\n",
    "    query[j] = temp1\n",
    "    \n",
    "    # 4\n",
    "    query[i_min:] = reversed(query[i_min:])\n",
    "    \n",
    "    for num in query:\n",
    "        print(num, end=' ')\n",
    "else:\n",
    "    print(-1)"
   ]
  },
  {
   "cell_type": "markdown",
   "metadata": {},
   "source": [
    "### 모든 순열\n",
    "https://www.acmicpc.net/problem/10974\n",
    "\n",
    "next_permutation을 N!회 호출 O(N * N!)"
   ]
  },
  {
   "cell_type": "code",
   "execution_count": 2,
   "metadata": {},
   "outputs": [
    {
     "name": "stdout",
     "output_type": "stream",
     "text": [
      "3\n",
      "1 2 3\n",
      "1 3 2\n",
      "2 1 3\n",
      "2 3 1\n",
      "3 1 2\n",
      "3 2 1\n"
     ]
    }
   ],
   "source": [
    "length = int(input())\n",
    "\n",
    "def next_permutation(query):\n",
    "    # 1\n",
    "    i_max = None\n",
    "    for i in range(1, length):\n",
    "        if query[i-1] < query[i]:\n",
    "            i_max = i\n",
    "\n",
    "    j = None\n",
    "    if i_max is not None:\n",
    "        # 2\n",
    "        for j_ in range(i_max, length):\n",
    "            if query[i_max-1] < query[j_]:\n",
    "                j = j_\n",
    "\n",
    "        # 3\n",
    "        temp1 = query[i_max-1]\n",
    "        temp2 = query[j]\n",
    "        query[i_max-1] = temp2\n",
    "        query[j] = temp1\n",
    "\n",
    "        # 4\n",
    "        query[i_max:] = reversed(query[i_max:])\n",
    "        return query\n",
    "    else:\n",
    "        return -1\n",
    "\n",
    "query = list(range(1, length +1))\n",
    "while query != -1:\n",
    "    print(' '.join(map(str, query)))\n",
    "    query = next_permutation(query)"
   ]
  },
  {
   "cell_type": "markdown",
   "metadata": {},
   "source": [
    "### 차이를 최대로\n",
    "https://www.acmicpc.net/problem/10819\n",
    "\n",
    "계획\n",
    "1. next_permutation을 이용하여 모든 숫자들의 배열을 만든다 O(N * N!)\n",
    "2. 그리고 Max인 값 print"
   ]
  },
  {
   "cell_type": "code",
   "execution_count": 3,
   "metadata": {},
   "outputs": [],
   "source": [
    "a = [1, 2, 3]"
   ]
  },
  {
   "cell_type": "code",
   "execution_count": 1,
   "metadata": {},
   "outputs": [
    {
     "name": "stdout",
     "output_type": "stream",
     "text": [
      "6\n",
      "20 1 15 8 4 10\n",
      "62\n"
     ]
    }
   ],
   "source": [
    "length = int(input())\n",
    "x = list(map(int, input().split()))\n",
    "\n",
    "def next_permutation(indices):\n",
    "    # 1\n",
    "    i_max = None\n",
    "    for i in range(1, length):\n",
    "        if indices[i-1] < indices[i]:\n",
    "            i_max = i\n",
    "\n",
    "    j = None\n",
    "    if i_max is not None:\n",
    "        # 2\n",
    "        for j_ in range(i_max, length):\n",
    "            if indices[i_max-1] < indices[j_]:\n",
    "                j = j_\n",
    "\n",
    "        # 3\n",
    "        temp1 = indices[i_max-1]\n",
    "        temp2 = indices[j]\n",
    "        indices[i_max-1] = temp2\n",
    "        indices[j] = temp1\n",
    "\n",
    "        # 4\n",
    "        indices[i_max:] = reversed(indices[i_max:])\n",
    "        return indices\n",
    "    else:\n",
    "        return -1\n",
    "\n",
    "def func(x_temp):\n",
    "    temp = 0\n",
    "    for i in range(1, length):\n",
    "        temp += abs(x_temp[i] - x_temp[i-1])\n",
    "    return temp\n",
    "    \n",
    "indices = list(range(length))\n",
    "max_number = 0\n",
    "while indices != -1:\n",
    "    x_temp = [x[ind] for ind in indices]\n",
    "    number = func(x_temp)\n",
    "    if max_number < number:\n",
    "        max_number = number\n",
    "    indices = next_permutation(indices)\n",
    "    \n",
    "print(max_number)"
   ]
  },
  {
   "cell_type": "markdown",
   "metadata": {},
   "source": [
    "# 0301 여기까지함!!!!!!!!!!!!!!!!!!!!!!"
   ]
  },
  {
   "cell_type": "markdown",
   "metadata": {},
   "source": [
    "### 외판원 문제2\n",
    "https://www.acmicpc.net/problem/10971"
   ]
  },
  {
   "cell_type": "markdown",
   "metadata": {},
   "source": [
    "계획\n",
    "1. N! 순열을 만든다.\n",
    "2. 각 경우에 대해 비용을 구하는 함수를 만든다. def func([0,1,2,3]): return cost"
   ]
  },
  {
   "cell_type": "code",
   "execution_count": 67,
   "metadata": {},
   "outputs": [
    {
     "name": "stdout",
     "output_type": "stream",
     "text": [
      "2\n",
      "1 0\n",
      "0 1\n",
      "0\n"
     ]
    }
   ],
   "source": [
    "n  = int(input())\n",
    "\n",
    "W = [[] for i in range(n)]\n",
    "\n",
    "for i in range(n):\n",
    "    W[i] = list(map(int, input().split()))\n",
    "\n",
    "def next_permutation(item):\n",
    "    # 1\n",
    "    i_max = 0\n",
    "    for i in range(1,len(item)):\n",
    "        if item[i-1]<item[i]:\n",
    "            i_max = i\n",
    "    if i_max==0:\n",
    "        return -1\n",
    "\n",
    "    # 2\n",
    "    j = 0\n",
    "    for i in range(i_max,len(item)):\n",
    "        if item[i_max-1]<item[i]:\n",
    "            j = i\n",
    "    # 3\n",
    "    temp1 = item[i_max-1]\n",
    "    temp2 = item[j]\n",
    "    item[i_max-1] = temp2\n",
    "    item[j] = temp1\n",
    "\n",
    "    # 4\n",
    "    item[i_max:] = list(reversed(item[i_max:]))\n",
    "    return item\n",
    "\n",
    "def generate_permutation(n):\n",
    "    '''\n",
    "    0 1 2 ... n-1 순열 조합 n!개를 [[0,1,2,3], [0,1,3,2], ...]로 반환\n",
    "    '''    \n",
    "    aa = [i for i in range(n)] # 순열 초기 값\n",
    "    permutation_list = []\n",
    "    while True:\n",
    "        permutation_list.append(aa.copy())\n",
    "        aa = next_permutation(aa)\n",
    "        if aa==-1:\n",
    "            return permutation_list\n",
    "\n",
    "def compute_cost(permu):\n",
    "    total_sum = 0\n",
    "    for i,j in enumerate(permu):\n",
    "        i+=1\n",
    "        if i==len(permu):\n",
    "            i=0\n",
    "        total_sum += W[j][permu[i]]\n",
    "    return total_sum\n",
    "\n",
    "cost_list = [compute_cost(ls) for ls in generate_permutation(n)]\n",
    "\n",
    "print(min(cost_list))"
   ]
  },
  {
   "cell_type": "code",
   "execution_count": null,
   "metadata": {},
   "outputs": [],
   "source": [
    "def permutation(D,n):\n",
    "    i=n-1\n",
    "    while D[i-1]>=D[i]:\n",
    "        i-=1\n",
    "    if i<=0:\n",
    "        return False\n",
    "    j=n-1\n",
    "    while D[i-1]>=D[j]:\n",
    "        j-=1\n",
    "    D[i-1],D[j]=D[j],D[i-1]\n",
    "    j=n-1\n",
    "    while i<j:\n",
    "        D[i],D[j]=D[j],D[i]\n",
    "        i+=1;j-=1\n",
    "    return True\n",
    "\n",
    "N=int(input())\n",
    "D=[i for i in range(N)]\n",
    "cost=[];ans=10*10**6\n",
    "for i in range(N):\n",
    "    cost.append([*map(int,input().split())])\n",
    "while 1:\n",
    "    if D[0]!=0:break\n",
    "    err=0; k=0; price=cost[D[N-1]][D[0]]\n",
    "    if price==0:break\n",
    "    else:k+=price\n",
    "    for i in range(N-1):\n",
    "        price=cost[D[i]][D[i+1]]\n",
    "        if price==0:err=1;break\n",
    "        k+=price\n",
    "    if err==0 and ans>k:ans=k\n",
    "    permutation(D,len(D))\n",
    "print(ans)"
   ]
  },
  {
   "cell_type": "markdown",
   "metadata": {},
   "source": [
    "# 브루트 포스(재귀)\n",
    "\n",
    "## STEP\n",
    "\n",
    "> 1. 성공문\n",
    "2. 실패문\n",
    "3. 재귀문\n",
    "\n",
    "호출순서는 트리 노드를 생각해야한다!!"
   ]
  },
  {
   "cell_type": "markdown",
   "metadata": {},
   "source": [
    "### 1, 2, 3 더하기\n",
    "https://www.acmicpc.net/problem/9095"
   ]
  },
  {
   "cell_type": "markdown",
   "metadata": {},
   "source": [
    "계획\n",
    "\n",
    "1. go(total, goal)을 정의하자.\n",
    "\n",
    "> 0. total>goal이면 탈출\n",
    "\n",
    "> 1. total=goal이면 개수 +1\n",
    "\n",
    "> 2. sum<goal이면<br>\n",
    "    >2.1 go(total+1, goal)<br>\n",
    "    >2.2 go(total+2, goal)<br>\n",
    "    >2.3 go(total+3, goal)<br>\n",
    "\n",
    "> repeat 0\n",
    "\n",
    "2. 개수를 센다"
   ]
  },
  {
   "cell_type": "code",
   "execution_count": 108,
   "metadata": {},
   "outputs": [],
   "source": [
    "def go(total, goal):\n",
    "    if total>goal:\n",
    "        return 0\n",
    "    elif total==goal:\n",
    "        return 1  \n",
    "    count = 0 # 재귀에서 count를 초기화해도 이 count는 영향을 받지 않음\n",
    "    count+=go(total+1, goal)     \n",
    "    count+=go(total+2, goal)\n",
    "    count+=go(total+3, goal)\n",
    "    return count\n",
    "\n",
    "n_repeat = int(input())\n",
    "n_list = [int(input()) for i in range(n_repeat)]\n",
    "\n",
    "for n in n_list:\n",
    "    print(go(0,n))"
   ]
  },
  {
   "cell_type": "markdown",
   "metadata": {},
   "source": [
    "솔루션2 $O(N)$\n",
    "\n",
    "sum = 현재 값\n",
    "\n",
    "goal = 목표 값"
   ]
  },
  {
   "cell_type": "code",
   "execution_count": 43,
   "metadata": {},
   "outputs": [
    {
     "name": "stdout",
     "output_type": "stream",
     "text": [
      "1\n",
      "10\n",
      "274\n"
     ]
    }
   ],
   "source": [
    "def go (sum, goal):\n",
    "    if sum > goal: return 0\n",
    "    if sum is goal: return 1\n",
    "\n",
    "    now = 0\n",
    "    for i in range(1,3+1):\n",
    "        now += go(sum+i,goal)\n",
    "    return now\n",
    "\n",
    "\n",
    "T = int(input())\n",
    "while T>0:\n",
    "    T-=1\n",
    "    n = int(input())\n",
    "    print(go(0,n))"
   ]
  },
  {
   "cell_type": "markdown",
   "metadata": {},
   "source": [
    "### 암호만들기\n",
    "https://www.acmicpc.net/problem/1759"
   ]
  },
  {
   "cell_type": "markdown",
   "metadata": {},
   "source": [
    "계획\n",
    "1. 모음 1개 자음 2개가 있는 지 알려주는 함수를 만들자.\n",
    "\n",
    "2. 조합문을$_{N} C_{n}$ 만드는 재귀함수를 만들자."
   ]
  },
  {
   "cell_type": "code",
   "execution_count": 1,
   "metadata": {},
   "outputs": [
    {
     "name": "stdout",
     "output_type": "stream",
     "text": [
      "4 6\n",
      "a t c i s w\n",
      "acis\n",
      "acit\n",
      "aciw\n",
      "acst\n",
      "acsw\n",
      "actw\n",
      "aist\n",
      "aisw\n",
      "aitw\n",
      "astw\n",
      "cist\n",
      "cisw\n",
      "citw\n",
      "istw\n"
     ]
    }
   ],
   "source": [
    "n, x = map(int, input().split())\n",
    "chars = sorted(input().split())\n",
    "chars = ''.join(chars)\n",
    "\n",
    "def test(characters):\n",
    "    moeums = [characters.count('a'), characters.count('e'), characters.count('i'), characters.count('o'), characters.count('u')]\n",
    "    n_jaeum = len(characters) - sum(moeums)\n",
    "    if sum(moeums)>=1 and n_jaeum>=2:\n",
    "        return True\n",
    "    else:\n",
    "        return False\n",
    "\n",
    "def go(n, index=0, ct=0, imsi=[]):\n",
    "    '''\n",
    "    index : initial index\n",
    "    ct : # of select chars\n",
    "    imsi : temporary storage of charactes \n",
    "    '''\n",
    "    if ct==n:\n",
    "        if test(''.join(imsi)):\n",
    "            print(''.join(imsi))\n",
    "        return\n",
    "    elif index+ct==len(chars):\n",
    "        return\n",
    "    else:\n",
    "        imsi1 = imsi.copy()\n",
    "        imsi1.append(chars[index+ct])\n",
    "        imsi2 = imsi.copy()\n",
    "        go(n, index, ct+1, imsi1)\n",
    "        go(n, index+1, ct, imsi2)\n",
    "        \n",
    "go(n)"
   ]
  },
  {
   "cell_type": "code",
   "execution_count": 2,
   "metadata": {
    "scrolled": true
   },
   "outputs": [
    {
     "name": "stderr",
     "output_type": "stream",
     "text": [
      "<>:7: SyntaxWarning: \"is\" with a literal. Did you mean \"==\"?\n",
      "<>:7: SyntaxWarning: \"is\" with a literal. Did you mean \"==\"?\n",
      "<>:7: SyntaxWarning: \"is\" with a literal. Did you mean \"==\"?\n",
      "<>:7: SyntaxWarning: \"is\" with a literal. Did you mean \"==\"?\n",
      "<>:7: SyntaxWarning: \"is\" with a literal. Did you mean \"==\"?\n",
      "<>:7: SyntaxWarning: \"is\" with a literal. Did you mean \"==\"?\n",
      "<>:7: SyntaxWarning: \"is\" with a literal. Did you mean \"==\"?\n",
      "<>:7: SyntaxWarning: \"is\" with a literal. Did you mean \"==\"?\n",
      "<ipython-input-2-68086f2cb84a>:7: SyntaxWarning: \"is\" with a literal. Did you mean \"==\"?\n",
      "  if a is 'a' or a is 'e' or a is 'i'or a in 'o' or a is 'u': u+=1\n",
      "<ipython-input-2-68086f2cb84a>:7: SyntaxWarning: \"is\" with a literal. Did you mean \"==\"?\n",
      "  if a is 'a' or a is 'e' or a is 'i'or a in 'o' or a is 'u': u+=1\n",
      "<ipython-input-2-68086f2cb84a>:7: SyntaxWarning: \"is\" with a literal. Did you mean \"==\"?\n",
      "  if a is 'a' or a is 'e' or a is 'i'or a in 'o' or a is 'u': u+=1\n",
      "<ipython-input-2-68086f2cb84a>:7: SyntaxWarning: \"is\" with a literal. Did you mean \"==\"?\n",
      "  if a is 'a' or a is 'e' or a is 'i'or a in 'o' or a is 'u': u+=1\n"
     ]
    },
    {
     "name": "stdout",
     "output_type": "stream",
     "text": [
      "4 6\n",
      "a t c i s w\n",
      "acis\n",
      "acit\n",
      "aciw\n",
      "acst\n",
      "acsw\n",
      "actw\n",
      "aist\n",
      "aisw\n",
      "aitw\n",
      "astw\n",
      "cist\n",
      "cisw\n",
      "citw\n",
      "istw\n"
     ]
    }
   ],
   "source": [
    "alpha = [0]*26\n",
    "\n",
    "def hasleastone(l):\n",
    "    u = 0\n",
    "    n = 0\n",
    "    for a in l:\n",
    "        if a is 'a' or a is 'e' or a is 'i'or a in 'o' or a is 'u': u+=1\n",
    "        else: n+=1\n",
    "    return u,n\n",
    "\n",
    "def go(l, v, index, count, n, m):\n",
    "    if count == n:\n",
    "        (u,n) = hasleastone(v)\n",
    "        if u>=1 and n>=2:\n",
    "            print(''.join(v))\n",
    "        return\n",
    "    elif count < n and index >= m:\n",
    "        return\n",
    "    else:\n",
    "            \n",
    "        v.append(l[index])\n",
    "        go(l,v,index+1,count+1,n,m)\n",
    "        v.remove(l[index])\n",
    "        go(l,v,index+1,count,n,m)    \n",
    "\n",
    "\n",
    "for i in range(0,26):\n",
    "    alpha[i] = 0\n",
    "\n",
    "n, m = list(map(int,input().split()))\n",
    "\n",
    "v= []\n",
    "l  = list(input().split())\n",
    "l.sort()\n",
    "go(l,v,0,0,n,m)"
   ]
  },
  {
   "cell_type": "markdown",
   "metadata": {},
   "source": [
    "솔루션"
   ]
  },
  {
   "cell_type": "code",
   "execution_count": 4,
   "metadata": {},
   "outputs": [
    {
     "name": "stderr",
     "output_type": "stream",
     "text": [
      "<>:7: SyntaxWarning: \"is\" with a literal. Did you mean \"==\"?\n",
      "<>:7: SyntaxWarning: \"is\" with a literal. Did you mean \"==\"?\n",
      "<>:7: SyntaxWarning: \"is\" with a literal. Did you mean \"==\"?\n",
      "<>:7: SyntaxWarning: \"is\" with a literal. Did you mean \"==\"?\n",
      "<>:7: SyntaxWarning: \"is\" with a literal. Did you mean \"==\"?\n",
      "<>:7: SyntaxWarning: \"is\" with a literal. Did you mean \"==\"?\n",
      "<>:7: SyntaxWarning: \"is\" with a literal. Did you mean \"==\"?\n",
      "<>:7: SyntaxWarning: \"is\" with a literal. Did you mean \"==\"?\n",
      "<ipython-input-4-11b8e62a64c2>:7: SyntaxWarning: \"is\" with a literal. Did you mean \"==\"?\n",
      "  if a is 'a' or a is 'e' or a is 'i'or a in 'o' or a is 'u': u+=1\n",
      "<ipython-input-4-11b8e62a64c2>:7: SyntaxWarning: \"is\" with a literal. Did you mean \"==\"?\n",
      "  if a is 'a' or a is 'e' or a is 'i'or a in 'o' or a is 'u': u+=1\n",
      "<ipython-input-4-11b8e62a64c2>:7: SyntaxWarning: \"is\" with a literal. Did you mean \"==\"?\n",
      "  if a is 'a' or a is 'e' or a is 'i'or a in 'o' or a is 'u': u+=1\n",
      "<ipython-input-4-11b8e62a64c2>:7: SyntaxWarning: \"is\" with a literal. Did you mean \"==\"?\n",
      "  if a is 'a' or a is 'e' or a is 'i'or a in 'o' or a is 'u': u+=1\n"
     ]
    },
    {
     "name": "stdout",
     "output_type": "stream",
     "text": [
      "4 6\n",
      "a t c i s w\n",
      "acis\n",
      "acit\n",
      "aciw\n",
      "acst\n",
      "acsw\n",
      "actw\n",
      "aist\n",
      "aisw\n",
      "aitw\n",
      "astw\n",
      "cist\n",
      "cisw\n",
      "citw\n",
      "istw\n"
     ]
    }
   ],
   "source": [
    "alpha = [0]*26\n",
    "\n",
    "def hasleastone(l):\n",
    "    u = 0\n",
    "    n = 0\n",
    "    for a in l:\n",
    "        if a is 'a' or a is 'e' or a is 'i'or a in 'o' or a is 'u': u+=1\n",
    "        else: n+=1\n",
    "    return u,n\n",
    "\n",
    "def go(l, v, index, count, n, m):\n",
    "    '''\n",
    "    l은 배열을 sorting한 것을 저장한 것\n",
    "\n",
    "    v는 저장소 조건이 만족하면 들어오는\n",
    "\n",
    "    count는 v에 담긴 숫자\n",
    "\n",
    "    n개 뽑기\n",
    "\n",
    "    m개 중에\n",
    "    '''\n",
    "    if count == n:\n",
    "        (u,n) = hasleastone(v)\n",
    "        if u>=1 and n>=2:\n",
    "            print(''.join(v))\n",
    "        return\n",
    "    elif count < n and index >= m:\n",
    "        return\n",
    "    else:\n",
    "            \n",
    "        v.append(l[index])\n",
    "        go(l,v,index+1,count+1,n,m)\n",
    "        v.remove(l[index])\n",
    "        go(l,v,index+1,count,n,m)    \n",
    "\n",
    "\n",
    "for i in range(0,26):\n",
    "    alpha[i] = 0\n",
    "\n",
    "n, m = list(map(int,input().split()))\n",
    "\n",
    "v= []\n",
    "l  = list(input().split())\n",
    "l.sort()\n",
    "go(l,v,0,0,n,m)"
   ]
  },
  {
   "cell_type": "markdown",
   "metadata": {},
   "source": [
    "### 로또\n",
    "https://www.acmicpc.net/problem/6603"
   ]
  },
  {
   "cell_type": "markdown",
   "metadata": {},
   "source": [
    "계획\n",
    "1. 조합문을$_{N} C_{6}$ 만드는 재귀함수를 만들자."
   ]
  },
  {
   "cell_type": "code",
   "execution_count": 5,
   "metadata": {},
   "outputs": [
    {
     "name": "stdout",
     "output_type": "stream",
     "text": [
      "7 1 2 3 4 5 6 7\n",
      "8 1 2 3 5 8 13 21 34\n",
      "0\n",
      "1 2 3 4 5 6\n",
      "1 2 3 4 5 7\n",
      "1 2 3 4 6 7\n",
      "1 2 3 5 6 7\n",
      "1 2 4 5 6 7\n",
      "1 3 4 5 6 7\n",
      "2 3 4 5 6 7\n",
      "\n",
      "1 2 3 5 8 13\n",
      "1 2 3 5 8 21\n",
      "1 2 3 5 8 34\n",
      "1 2 3 5 13 21\n",
      "1 2 3 5 13 34\n",
      "1 2 3 5 21 34\n",
      "1 2 3 8 13 21\n",
      "1 2 3 8 13 34\n",
      "1 2 3 8 21 34\n",
      "1 2 3 13 21 34\n",
      "1 2 5 8 13 21\n",
      "1 2 5 8 13 34\n",
      "1 2 5 8 21 34\n",
      "1 2 5 13 21 34\n",
      "1 2 8 13 21 34\n",
      "1 3 5 8 13 21\n",
      "1 3 5 8 13 34\n",
      "1 3 5 8 21 34\n",
      "1 3 5 13 21 34\n",
      "1 3 8 13 21 34\n",
      "1 5 8 13 21 34\n",
      "2 3 5 8 13 21\n",
      "2 3 5 8 13 34\n",
      "2 3 5 8 21 34\n",
      "2 3 5 13 21 34\n",
      "2 3 8 13 21 34\n",
      "2 5 8 13 21 34\n",
      "3 5 8 13 21 34\n",
      "\n"
     ]
    }
   ],
   "source": [
    "def go(n, index=0, ct=0, imsi=[]):\n",
    "    '''\n",
    "    index : initial index\n",
    "    ct : # of select chars\n",
    "    imsi : temporary storage of charactes \n",
    "    '''\n",
    "    if ct==n:\n",
    "        print(' '.join(map(str, imsi)))\n",
    "        return\n",
    "    elif index+ct==len(nums):\n",
    "        return\n",
    "    else:\n",
    "        imsi1 = imsi.copy()\n",
    "        imsi1.append(nums[index+ct])\n",
    "        imsi2 = imsi.copy()\n",
    "        go(n, index, ct+1, imsi1)\n",
    "        go(n, index+1, ct, imsi2)\n",
    "\n",
    "commands = []\n",
    "try:\n",
    "    while True:\n",
    "        n, *nums = map(int, input().split())\n",
    "        if n==0:\n",
    "            raise ValueError\n",
    "        commands.append(nums)\n",
    "except:\n",
    "    pass\n",
    "\n",
    "for i, c in enumerate(commands):\n",
    "    nums = c\n",
    "    go(6)\n",
    "    if i<len(c):\n",
    "        print('')"
   ]
  },
  {
   "cell_type": "markdown",
   "metadata": {},
   "source": [
    "솔루션"
   ]
  },
  {
   "cell_type": "code",
   "execution_count": 6,
   "metadata": {},
   "outputs": [
    {
     "name": "stdout",
     "output_type": "stream",
     "text": [
      "7 1 2 3 4 5 6 7\n",
      "1 2 3 4 5 6\n",
      "1 2 3 4 5 7\n",
      "1 2 3 4 6 7\n",
      "1 2 3 5 6 7\n",
      "1 2 4 5 6 7\n",
      "1 3 4 5 6 7\n",
      "2 3 4 5 6 7\n",
      "\n",
      "8 1 2 3 5 8 13 21 34\n",
      "1 2 3 5 8 13\n",
      "1 2 3 5 8 21\n",
      "1 2 3 5 8 34\n",
      "1 2 3 5 13 21\n",
      "1 2 3 5 13 34\n",
      "1 2 3 5 21 34\n",
      "1 2 3 8 13 21\n",
      "1 2 3 8 13 34\n",
      "1 2 3 8 21 34\n",
      "1 2 3 13 21 34\n",
      "1 2 5 8 13 21\n",
      "1 2 5 8 13 34\n",
      "1 2 5 8 21 34\n",
      "1 2 5 13 21 34\n",
      "1 2 8 13 21 34\n",
      "1 3 5 8 13 21\n",
      "1 3 5 8 13 34\n",
      "1 3 5 8 21 34\n",
      "1 3 5 13 21 34\n",
      "1 3 8 13 21 34\n",
      "1 5 8 13 21 34\n",
      "2 3 5 8 13 21\n",
      "2 3 5 8 13 34\n",
      "2 3 5 8 21 34\n",
      "2 3 5 13 21 34\n",
      "2 3 8 13 21 34\n",
      "2 5 8 13 21 34\n",
      "3 5 8 13 21 34\n",
      "\n",
      "0\n"
     ]
    }
   ],
   "source": [
    "def solve(a, index, lotto):\n",
    "    if len(lotto) == 6:\n",
    "        print(' '.join(map(str,lotto)))\n",
    "        return\n",
    "    if len(lotto) < 6 and index == len(a):\n",
    "        return\n",
    "    \n",
    "    solve(a, index+1, lotto+[a[index]])\n",
    "    solve(a, index+1, lotto)\n",
    "\n",
    "while True:\n",
    "    n, *a = list(map(int,input().split()))\n",
    "    if n == 0:\n",
    "        break\n",
    "    solve(a, 0, [])\n",
    "    print()"
   ]
  },
  {
   "cell_type": "code",
   "execution_count": null,
   "metadata": {},
   "outputs": [],
   "source": []
  }
 ],
 "metadata": {
  "kernelspec": {
   "display_name": "Python 3",
   "language": "python",
   "name": "python3"
  },
  "language_info": {
   "codemirror_mode": {
    "name": "ipython",
    "version": 3
   },
   "file_extension": ".py",
   "mimetype": "text/x-python",
   "name": "python",
   "nbconvert_exporter": "python",
   "pygments_lexer": "ipython3",
   "version": "3.8.8"
  }
 },
 "nbformat": 4,
 "nbformat_minor": 2
}
