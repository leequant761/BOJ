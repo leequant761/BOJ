{
 "cells": [
  {
   "cell_type": "markdown",
   "id": "announced-flavor",
   "metadata": {},
   "source": [
    "### 나는야 포켓몬 마스터 이다솜\n",
    "https://www.acmicpc.net/problem/1620"
   ]
  },
  {
   "cell_type": "markdown",
   "id": "legislative-variety",
   "metadata": {},
   "source": [
    "쿼리를 많이 처리해야하는 경우 `input()` 대신에 `sys.stdin.readline()`을 써야한다"
   ]
  },
  {
   "cell_type": "code",
   "execution_count": 34,
   "id": "heard-trinidad",
   "metadata": {},
   "outputs": [
    {
     "name": "stdout",
     "output_type": "stream",
     "text": [
      "5 3\n",
      "A\n",
      "B\n",
      "C\n",
      "D\n",
      "E\n",
      "1\n",
      "A\n",
      "2\n",
      "B\n",
      "C\n",
      "3\n"
     ]
    }
   ],
   "source": [
    "import sys\n",
    "\n",
    "n_monster, n_query = map(int, input().split())\n",
    "\n",
    "name2idx = {}\n",
    "idx2name = [None]\n",
    "\n",
    "for idx in range(1, n_monster+1):\n",
    "    name =  sys.stdin.readline().replace('\\n', '')\n",
    "    name2idx[name] = idx\n",
    "    idx2name.append(name) \n",
    "    \n",
    "for _ in range(n_query):\n",
    "    query =  sys.stdin.readline().replace('\\n', '')\n",
    "    if query.isalpha():\n",
    "        print(name2idx[query])\n",
    "    else:\n",
    "        query = int(query)\n",
    "        print(idx2name[query])"
   ]
  },
  {
   "cell_type": "markdown",
   "id": "raising-christmas",
   "metadata": {},
   "source": [
    "### 듣보잡\n",
    "https://www.acmicpc.net/problem/1764"
   ]
  },
  {
   "cell_type": "code",
   "execution_count": 28,
   "id": "faced-friend",
   "metadata": {},
   "outputs": [
    {
     "name": "stdout",
     "output_type": "stream",
     "text": [
      "3 4\n"
     ]
    }
   ],
   "source": [
    "import sys\n",
    "from collections import Counter\n",
    "\n",
    "counter = Counter()\n",
    "\n",
    "n, m = map(int, input().split())\n",
    "\n",
    "for _ in range(n):\n",
    "    counter[sys.stdin.readline().replace('\\n', '')] += 1\n",
    "for _ in range(m):\n",
    "    counter[sys.stdin.readline().replace('\\n', '')] += 1    \n",
    "\n",
    "over2_keys = []\n",
    "for key, value in counter.items():\n",
    "    if value==2:\n",
    "        over2_keys.append(key)\n",
    "        \n",
    "print(len(over2_keys))\n",
    "for name in sorted(over2_keys):\n",
    "    print(name)"
   ]
  },
  {
   "cell_type": "code",
   "execution_count": null,
   "id": "portable-engineering",
   "metadata": {},
   "outputs": [],
   "source": []
  }
 ],
 "metadata": {
  "kernelspec": {
   "display_name": "Python 3",
   "language": "python",
   "name": "python3"
  },
  "language_info": {
   "codemirror_mode": {
    "name": "ipython",
    "version": 3
   },
   "file_extension": ".py",
   "mimetype": "text/x-python",
   "name": "python",
   "nbconvert_exporter": "python",
   "pygments_lexer": "ipython3",
   "version": "3.8.8"
  }
 },
 "nbformat": 4,
 "nbformat_minor": 5
}
