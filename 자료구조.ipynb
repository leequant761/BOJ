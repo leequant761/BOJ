{
 "cells": [
  {
   "cell_type": "markdown",
   "id": "faced-government",
   "metadata": {},
   "source": [
    "### 최소 힙\n",
    "https://www.acmicpc.net/problem/1927"
   ]
  },
  {
   "cell_type": "code",
   "execution_count": 3,
   "id": "floral-nirvana",
   "metadata": {},
   "outputs": [
    {
     "name": "stdout",
     "output_type": "stream",
     "text": [
      "9\n",
      "1\n",
      "2\n",
      "4\n",
      "7\n",
      "5\n",
      "3\n",
      "1\n",
      "5\n",
      "3\n"
     ]
    }
   ],
   "source": [
    "import sys\n",
    "import heapq\n",
    "\n",
    "#input = sys.stdin.readline\n",
    "n_query = int(input())\n",
    "heap = []\n",
    "\n",
    "for _ in range(n_query):\n",
    "    query = int(input())\n",
    "    if query == 0:\n",
    "        try:\n",
    "            print(heapq.heappop(heap))\n",
    "        except IndexError:\n",
    "            print(0)\n",
    "    else:\n",
    "        heapq.heappush(heap, query)"
   ]
  },
  {
   "cell_type": "markdown",
   "id": "stylish-stylus",
   "metadata": {},
   "source": [
    "### 최대힙\n",
    "https://www.acmicpc.net/problem/11279"
   ]
  },
  {
   "cell_type": "code",
   "execution_count": 7,
   "id": "monetary-uniform",
   "metadata": {},
   "outputs": [
    {
     "name": "stdout",
     "output_type": "stream",
     "text": [
      "13\n",
      "0\n",
      "0\n",
      "1\n",
      "2\n",
      "0\n",
      "2\n",
      "0\n",
      "1\n",
      "3\n",
      "2\n",
      "1\n",
      "0\n",
      "3\n",
      "0\n",
      "2\n",
      "0\n",
      "1\n",
      "0\n",
      "0\n",
      "0\n",
      "0\n"
     ]
    }
   ],
   "source": [
    "import heapq\n",
    "\n",
    "max_heap = []\n",
    "n_qry = int(input())\n",
    "\n",
    "for _ in range(n_qry):\n",
    "    qry = int(input())\n",
    "    if qry == 0:\n",
    "        try:\n",
    "            answer = -heapq.heappop(max_heap)\n",
    "            print(answer)\n",
    "        except IndexError:\n",
    "            print(0)\n",
    "    else:\n",
    "        heapq.heappush(max_heap, -qry)"
   ]
  },
  {
   "cell_type": "markdown",
   "id": "weird-receiver",
   "metadata": {},
   "source": [
    "### 이중 우선순위 큐\n",
    "https://www.acmicpc.net/problem/7662"
   ]
  },
  {
   "cell_type": "code",
   "execution_count": 45,
   "id": "ancient-sunrise",
   "metadata": {
    "scrolled": true
   },
   "outputs": [
    {
     "name": "stdout",
     "output_type": "stream",
     "text": [
      "1\n",
      "9\n",
      "I -45\n",
      "I 653\n",
      "D 1\n",
      "I -642\n",
      "I 45\n",
      "I 97\n",
      "D 1\n",
      "D -1\n",
      "I 333\n",
      "333 -45\n"
     ]
    }
   ],
   "source": [
    "import heapq\n",
    "from collections import Counter\n",
    "\n",
    "test_case = int(input())\n",
    "\n",
    "for _ in range(test_case):\n",
    "    min_heap = []\n",
    "    max_heap = []\n",
    "    counter = Counter()\n",
    "    n_qry = int(input())\n",
    "    queries = [input().split() for _ in range(n_qry)]\n",
    "    \n",
    "    for func, argument in queries:\n",
    "        \n",
    "        if func == 'I':\n",
    "            heapq.heappush(min_heap, int(argument))\n",
    "            heapq.heappush(max_heap, -int(argument))\n",
    "            counter[int(argument)] += 1\n",
    "\n",
    "        elif func == 'D' and argument == '1':\n",
    "            while max_heap:\n",
    "                value = -heapq.heappop(max_heap)\n",
    "                counter[value] -= 1\n",
    "                if counter[value] == -1:\n",
    "                    del counter[value]\n",
    "                else:\n",
    "                    break\n",
    "                    \n",
    "        elif func == 'D' and argument == '-1':\n",
    "            while min_heap:\n",
    "                value = heapq.heappop(min_heap)\n",
    "                counter[value] -= 1\n",
    "                if counter[value] == -1:\n",
    "                    del counter[value]\n",
    "                else:\n",
    "                    break\n",
    "                    \n",
    "    counter = {key: value for key, value in counter.items() if value > 0}\n",
    "    if len(counter) > 0:\n",
    "        print(max(counter), min(counter))\n",
    "    else:\n",
    "        print('EMPTY')"
   ]
  },
  {
   "cell_type": "markdown",
   "id": "placed-occasion",
   "metadata": {},
   "source": [
    "### ATM\n",
    "\n",
    "https://www.acmicpc.net/problem/11399"
   ]
  },
  {
   "cell_type": "code",
   "execution_count": 10,
   "id": "working-woman",
   "metadata": {},
   "outputs": [],
   "source": [
    "_ = input()\n",
    "a = list(map(int, input().split()))\n",
    "a = sorted(a)\n",
    "\n",
    "b = []\n",
    "temp = 0\n",
    "for aa in a:\n",
    "    temp += aa\n",
    "    b.append(temp)\n",
    "    \n",
    "print(sum(b))"
   ]
  },
  {
   "cell_type": "code",
   "execution_count": 15,
   "id": "accessible-reduction",
   "metadata": {
    "scrolled": true
   },
   "outputs": [
    {
     "data": {
      "text/plain": [
       "32"
      ]
     },
     "execution_count": 15,
     "metadata": {},
     "output_type": "execute_result"
    }
   ],
   "source": [
    "sum(b)"
   ]
  },
  {
   "cell_type": "markdown",
   "id": "cardiovascular-victoria",
   "metadata": {},
   "source": [
    "### 좌표 압축\n",
    "\n",
    "https://www.acmicpc.net/problem/18870"
   ]
  },
  {
   "cell_type": "code",
   "execution_count": 54,
   "id": "canadian-actress",
   "metadata": {},
   "outputs": [
    {
     "name": "stdout",
     "output_type": "stream",
     "text": [
      "6\n",
      "1000 999 1000 999 1000 999\n"
     ]
    }
   ],
   "source": [
    "_ = int(input())\n",
    "\n",
    "query = list(map(int, input().split()))\n",
    "set_query = sorted(set(query))\n",
    "\n",
    "dic = {key: i for i, key in enumerate(set_query)}\n",
    "\n",
    "for key in query:\n",
    "    print(dic[key], end=' ')"
   ]
  }
 ],
 "metadata": {
  "kernelspec": {
   "display_name": "Python 3",
   "language": "python",
   "name": "python3"
  },
  "language_info": {
   "codemirror_mode": {
    "name": "ipython",
    "version": 3
   },
   "file_extension": ".py",
   "mimetype": "text/x-python",
   "name": "python",
   "nbconvert_exporter": "python",
   "pygments_lexer": "ipython3",
   "version": "3.8.8"
  }
 },
 "nbformat": 4,
 "nbformat_minor": 5
}
