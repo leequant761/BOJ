{
 "cells": [
  {
   "cell_type": "markdown",
   "metadata": {},
   "source": [
    "# 2. DFS (깊이 우선 탐색)\n",
    "\n",
    "* 그래프의 깊은 부분을 우선적으로 탐색하는 알고리즘\n",
    "* 스택 자료구조 (혹은 재귀함수)를 활용한다.\n",
    "\n",
    "## STEP\n",
    "> 1. 탐색 시작 노드를 스택에 삽입하고 방문처리\n",
    "2. 스택의 최상단 노드에\n",
    "    * 방문하지 않은 인접한 노드가 있다면 그 중에 한 노드를 스택에 삽입하고 방문처리\n",
    "    * (방문하지 않은) 인접한 노드가 없다면 스택의 최상단 노드를 제거\n",
    "3. repeat 2 until empty stack"
   ]
  },
  {
   "cell_type": "markdown",
   "metadata": {},
   "source": [
    "![./fig/dfs.png](./fig/dfs.png)"
   ]
  },
  {
   "cell_type": "code",
   "execution_count": 2,
   "metadata": {},
   "outputs": [],
   "source": [
    "def dfs(graph, v, visited):\n",
    "    visited[v] = True\n",
    "    print(v, end=' ')\n",
    "    for adj_v in graph[v]:\n",
    "        if not visited[adj_v]:\n",
    "            dfs(graph, adj_v, visited)"
   ]
  },
  {
   "cell_type": "code",
   "execution_count": 3,
   "metadata": {},
   "outputs": [
    {
     "name": "stdout",
     "output_type": "stream",
     "text": [
      "1 2 7 6 8 3 4 5 "
     ]
    }
   ],
   "source": [
    "graph = [\n",
    "    [],\n",
    "    [2, 3, 8],\n",
    "    [1, 7],\n",
    "    [1, 4, 5],\n",
    "    [3, 5],\n",
    "    [3, 4],\n",
    "    [7],\n",
    "    [2, 6, 8],\n",
    "    [1, 7]\n",
    "]\n",
    "\n",
    "visited = [False] * (8+1)\n",
    "dfs(graph, 1, visited)"
   ]
  },
  {
   "cell_type": "markdown",
   "metadata": {},
   "source": [
    "# 3. BFS (너비 우선 탐색)\n",
    "\n",
    "* 그래프에 인접한 노드들을 우선적으로 탐색하는 알고리즘\n",
    "* 큐 자료구조를 활용한다\n",
    "\n",
    "## STEP\n",
    "> 1. 탐색 시작 노드를 큐에 삽입하고 방문처리\n",
    "2. 큐에서 노드 하나 제거하고 인접노드 중 방문하지 않은 **모든** 노드를 큐에 삽입하고 방문처리\n",
    "3. repeat 2 until empty queue"
   ]
  },
  {
   "cell_type": "markdown",
   "metadata": {},
   "source": [
    "![./fig/bfs.png](./fig/bfs.png)"
   ]
  },
  {
   "cell_type": "code",
   "execution_count": 8,
   "metadata": {},
   "outputs": [],
   "source": [
    "from collections import deque\n",
    "\n",
    "def bfs(graph, start, visited):\n",
    "    queue = deque([start])\n",
    "    visited[start] = True\n",
    "    while len(queue) != 0:\n",
    "        v = queue.popleft()\n",
    "        print(v, end=' ')\n",
    "        for adj_v in graph[v]:\n",
    "            if not visited[adj_v]:\n",
    "                queue.append(adj_v)\n",
    "                visited[adj_v] = True"
   ]
  },
  {
   "cell_type": "code",
   "execution_count": 9,
   "metadata": {},
   "outputs": [
    {
     "name": "stdout",
     "output_type": "stream",
     "text": [
      "1 2 3 8 7 4 5 6 "
     ]
    }
   ],
   "source": [
    "graph = [\n",
    "    [],\n",
    "    [2, 3, 8],\n",
    "    [1, 7],\n",
    "    [1, 4, 5],\n",
    "    [3, 5],\n",
    "    [3, 4],\n",
    "    [7],\n",
    "    [2, 6, 8],\n",
    "    [1, 7]\n",
    "]\n",
    "\n",
    "visited = [False] * (8+1)\n",
    "bfs(graph, 1, visited)"
   ]
  },
  {
   "cell_type": "markdown",
   "metadata": {},
   "source": [
    "### 단지번호붙이기\n",
    "\n",
    "https://www.acmicpc.net/problem/2667"
   ]
  },
  {
   "cell_type": "markdown",
   "metadata": {},
   "source": [
    "계획\n",
    "1. bfs를 만든다.(성냥심이 있으면 불붙이는 함수; 탄 흔적 & 언제 탔는 지는 따로 남긴다.)\n",
    "2. 모든 영역에 대해 bfs를 돌린다."
   ]
  },
  {
   "cell_type": "code",
   "execution_count": 1,
   "metadata": {},
   "outputs": [
    {
     "name": "stdout",
     "output_type": "stream",
     "text": [
      "7\n",
      "01101000\n",
      "0110101\n",
      "1110101\n",
      "0000111\n",
      "0100000\n",
      "0111110\n",
      "0111000\n",
      "3\n",
      "7\n",
      "8\n",
      "9\n"
     ]
    }
   ],
   "source": [
    "from collections import deque, Counter\n",
    "from functools import reduce\n",
    "\n",
    "delta_x = [1, 0, 0, -1]\n",
    "delta_y = [0, 1, -1, 0]\n",
    "\n",
    "def bfs(start_x, start_y, visited, count):    \n",
    "    queue = deque([(start_x, start_y)])\n",
    "    visited[start_x][start_y] = count\n",
    "    \n",
    "    while len(queue) != 0:\n",
    "        x, y = queue.popleft()\n",
    "        for dx, dy in zip(delta_x, delta_y):\n",
    "            if (x+dx >= size) or (x+dx < 0) or (y+dy >= size) or (y+dy < 0):\n",
    "                continue\n",
    "            else:\n",
    "                if graph[x+dx][y+dy] == 1 and visited[x+dx][y+dy] == 0:\n",
    "                    queue.append((x+dx, y+dy))\n",
    "                    visited[x+dx][y+dy] = count\n",
    "                    \n",
    "size = int(input())\n",
    "graph = []\n",
    "for _ in range(size):\n",
    "    graph.append([int(i) for i in input()])                    \n",
    "                    \n",
    "# 이렇게 쓰면 안됨!!\n",
    "# visited = [[0] * size] * size \n",
    "visited = [[0] * size for _ in range(size)]\n",
    "\n",
    "count = 1\n",
    "for x in range(size):\n",
    "    for y in range(size):\n",
    "        if graph[x][y]==1 and visited[x][y]==0:\n",
    "            bfs(x, y, visited, count)\n",
    "            count += 1\n",
    "\n",
    "counter = Counter(reduce(lambda x,y : x+y, visited))\n",
    "del counter[0]\n",
    "\n",
    "sorted_key = sorted(counter, key=lambda key: counter[key])\n",
    "print(max(sorted_key))\n",
    "for key in sorted_key:\n",
    "    print(counter[key])"
   ]
  },
  {
   "cell_type": "markdown",
   "metadata": {},
   "source": [
    "### 유기농 배추\n",
    "\n",
    "https://www.acmicpc.net/problem/1012"
   ]
  },
  {
   "cell_type": "code",
   "execution_count": 2,
   "metadata": {},
   "outputs": [
    {
     "name": "stdout",
     "output_type": "stream",
     "text": [
      "2\n",
      "10 8 17\n",
      "0 0\n",
      "1 0\n",
      "1 1\n",
      "4 2\n",
      "4 3\n",
      "4 5\n",
      "2 4\n",
      "3 4\n",
      "7 4\n",
      "8 4\n",
      "9 4\n",
      "7 5\n",
      "8 5\n",
      "9 5\n",
      "7 6\n",
      "8 6\n",
      "9 6\n",
      "5\n",
      "10 10 1\n",
      "5 5\n",
      "1\n"
     ]
    }
   ],
   "source": [
    "from collections import deque, Counter\n",
    "from functools import reduce\n",
    "\n",
    "delta_x = [1, 0, 0, -1]\n",
    "delta_y = [0, 1, -1, 0]\n",
    "\n",
    "def bfs(start_x, start_y, visited):    \n",
    "    queue = deque([(start_x, start_y)])\n",
    "    visited[start_x][start_y] = 1\n",
    "    \n",
    "    while len(queue) != 0:\n",
    "        x, y = queue.popleft()\n",
    "        for dx, dy in zip(delta_x, delta_y):\n",
    "            if (x+dx >= size_x) or (x+dx < 0) or (y+dy >= size_y) or (y+dy < 0):\n",
    "                continue\n",
    "            else:\n",
    "                if graph[x+dx][y+dy] == 1 and visited[x+dx][y+dy] == 0:\n",
    "                    queue.append((x+dx, y+dy))\n",
    "                    visited[x+dx][y+dy] = 1\n",
    "\n",
    "n_query = int(input())\n",
    "for _ in range(n_query):\n",
    "    size_x, size_y, n_subquery = list(map(int, input().split()))\n",
    "    graph = [[0] * size_y for _ in range(size_x)]\n",
    "    visited = [[0] * size_y for _ in range(size_x)]\n",
    "    for _ in range(n_subquery):\n",
    "        x, y = list(map(int, input().split()))\n",
    "        graph[x][y] = 1\n",
    "    \n",
    "    count = 0\n",
    "    for x in range(size_x):\n",
    "        for y in range(size_y):\n",
    "            if graph[x][y]==1 and visited[x][y]==0:\n",
    "                count += 1\n",
    "                bfs(x, y, visited)\n",
    "    \n",
    "    print(count)"
   ]
  },
  {
   "cell_type": "markdown",
   "metadata": {},
   "source": [
    "# 숨바꼭질\n",
    "https://www.acmicpc.net/problem/1697"
   ]
  },
  {
   "cell_type": "code",
   "execution_count": 6,
   "metadata": {},
   "outputs": [
    {
     "name": "stdout",
     "output_type": "stream",
     "text": [
      "0 1000\n",
      "13\n"
     ]
    }
   ],
   "source": [
    "from collections import deque\n",
    "\n",
    "trace = [None] * 100001\n",
    "\n",
    "N, K = map(int, input().split())\n",
    "\n",
    "queue = deque([N])\n",
    "\n",
    "count = 0\n",
    "temp = []\n",
    "\n",
    "while trace[K] is None:\n",
    "    n = queue.popleft()\n",
    "    \n",
    "    if trace[n] is None:\n",
    "        trace[n] = count\n",
    "        \n",
    "    next_steps = n-1, n+1, 2*n\n",
    "    for next_step in next_steps:\n",
    "        if next_step >= 0 and next_step <= 100000 and trace[next_step] is None:\n",
    "            temp.append(next_step)\n",
    "            \n",
    "    if len(queue) == 0:\n",
    "        count += 1\n",
    "        for next_step in temp:\n",
    "            queue.append(next_step)\n",
    "        temp = []\n",
    "\n",
    "print(trace[K])"
   ]
  },
  {
   "cell_type": "markdown",
   "metadata": {},
   "source": [
    "### 연결 요소의 개수\n",
    "https://www.acmicpc.net/problem/11724"
   ]
  },
  {
   "cell_type": "code",
   "execution_count": 45,
   "metadata": {},
   "outputs": [
    {
     "name": "stdout",
     "output_type": "stream",
     "text": [
      "6 8\n",
      "1 2\n",
      "2 5\n",
      "5 1\n",
      "3 4\n",
      "4 6\n",
      "5 4\n",
      "2 4\n",
      "2 3\n",
      "1\n"
     ]
    }
   ],
   "source": [
    "from collections import deque\n",
    "\n",
    "num_nodes , n_qry = map(int, input().split())\n",
    "graph = [[] for _ in range((num_nodes+1))]\n",
    "\n",
    "for _ in range(n_qry):\n",
    "    node_i, node_j = map(int, input().split())\n",
    "    graph[node_i].append(node_j)\n",
    "    graph[node_j].append(node_i)\n",
    "\n",
    "queue = deque([])\n",
    "visited = [0] * (num_nodes+1)\n",
    "\n",
    "def bfs(start, count):\n",
    "    queue = deque([start])\n",
    "    while queue:\n",
    "        node = queue.popleft()\n",
    "        visited[node] = count\n",
    "        for adj_node in graph[node]:\n",
    "            if visited[adj_node] == 0:\n",
    "                visited[adj_node] = count\n",
    "                queue.append(adj_node)\n",
    "\n",
    "count = 0\n",
    "for node in range(1, 1+num_nodes):\n",
    "    if visited[node] == 0:\n",
    "        count += 1\n",
    "        bfs(node, count)\n",
    "\n",
    "print(count)"
   ]
  },
  {
   "cell_type": "markdown",
   "metadata": {},
   "source": [
    "### 나이트의 이동\n",
    "https://www.acmicpc.net/problem/7562"
   ]
  },
  {
   "cell_type": "markdown",
   "metadata": {},
   "source": [
    "1. 8개씩 스플릿하는 노드를 생각해보자\n",
    "\n",
    "2. 노드에 적힌 label이 dest면 그만 둔다"
   ]
  },
  {
   "cell_type": "code",
   "execution_count": 78,
   "metadata": {},
   "outputs": [
    {
     "name": "stdout",
     "output_type": "stream",
     "text": [
      "1\n",
      "8\n",
      "0 0\n",
      "7 0\n",
      "5\n"
     ]
    }
   ],
   "source": [
    "from collections import deque\n",
    "\n",
    "delta_x = [1,1,2,2,-1,-1,-2,-2]\n",
    "delta_y = [2,-2,1,-1,2,-2,1,-1]\n",
    "\n",
    "def bfs(x, y):\n",
    "    depth = 0\n",
    "    q = deque()\n",
    "    q.append((x, y, depth)) # depth을 같이 넣어주는 이유는 탐색 그 자체가 아니라 층수(최단거리)도 계산해야하기 때문이다. \n",
    "    trace[x][y] = depth\n",
    "    while True: # destination에 도착하면 그만 둔다.\n",
    "        x, y, depth = q.popleft()\n",
    "        if x==dest[0] and y==dest[1]:\n",
    "            return depth\n",
    "        for dx, dy in zip(delta_x, delta_y):\n",
    "                if max(x+dx,y+dy)<I and min(x+dx,y+dy)>-1:\n",
    "                    if trace[x+dx][y+dy]==0:\n",
    "                        q.append((x+dx,y+dy,depth+1))\n",
    "                        trace[x+dx][y+dy] = depth+1\n",
    "\n",
    "n_iter = int(input())\n",
    "\n",
    "for i in range(n_iter):\n",
    "    I = int(input())\n",
    "    dep = tuple(map(int, input().split()))\n",
    "    dest = tuple(map(int, input().split()))\n",
    "    trace = [[0]*I for i in range(I)] # 갔던 곳 또 가기 싫어서 기록\n",
    "    print(bfs(dep[0], dep[1]))"
   ]
  },
  {
   "cell_type": "markdown",
   "metadata": {},
   "source": [
    "`시간초과` : 굳이 매번 새롭게 구해야할까?\n",
    "\n",
    "원하는 답이 나올 때 까지 무한확장(대신 시작과 끝을 변위차로 transform해줘서 불필요한 연산 줄이자)"
   ]
  },
  {
   "cell_type": "code",
   "execution_count": 76,
   "metadata": {},
   "outputs": [
    {
     "name": "stdout",
     "output_type": "stream",
     "text": [
      "1\n",
      "400\n",
      "0 0\n",
      "399 399\n",
      "266\n"
     ]
    }
   ],
   "source": [
    "from collections import deque\n",
    "\n",
    "delta_x = [1,1,2,2,-1,-1,-2,-2]\n",
    "delta_y = [2,-2,1,-1,2,-2,1,-1]\n",
    "\n",
    "def bfs():\n",
    "    depth = 1\n",
    "    q = deque()\n",
    "    q.append((0, 0, depth)) # depth을 같이 넣어주는 이유는 탐색 그 자체가 아니라 층수(최단거리)도 계산해야하기 때문이다. \n",
    "    trace[0][0] = depth\n",
    "    while not trace_condition(): # 모든 변위차에 대해 최단거리 나오면 그만 둔다.\n",
    "        x, y, depth = q.popleft()\n",
    "        for dx, dy in zip(delta_x, delta_y):\n",
    "                if max(x+dx,y+dy)<I_max and min(x+dx,y+dy)>-1:\n",
    "                    if trace[x+dx][y+dy]==0:\n",
    "                        q.append((x+dx,y+dy,depth+1))\n",
    "                        trace[x+dx][y+dy] = depth+1\n",
    "\n",
    "def trace_condition():\n",
    "    return all([trace[dist_x][dist_y]!=0 for dist_x, dist_y in dist_list])\n",
    "        \n",
    "\n",
    "n_iter = int(input())\n",
    "I_list = []\n",
    "dist_list = []\n",
    "for i in range(n_iter):\n",
    "    I_list.append(int(input()))\n",
    "    dep = (tuple(map(int, input().split())))\n",
    "    dest = (tuple(map(int, input().split())))\n",
    "    dist_list.append((abs(dep[0]-dest[0]), abs(dep[1]-dest[1])))\n",
    "    \n",
    "# I_max = max(I_list)\n",
    "I_max = max(I_list)\n",
    "trace = [[0]*I_max for i in range(I_max)] # 갔던 곳 또 가기 싫어서 기록\n",
    "bfs()\n",
    "\n",
    "for dist_x, dist_y in dist_list:\n",
    "    print(trace[dist_x][dist_y]-1)"
   ]
  },
  {
   "cell_type": "markdown",
   "metadata": {},
   "source": [
    "### DFS와 BFS \n",
    "\n",
    "https://www.acmicpc.net/problem/1260"
   ]
  },
  {
   "cell_type": "code",
   "execution_count": null,
   "metadata": {},
   "outputs": [],
   "source": [
    "from collections import deque\n",
    "n,m,start = map(int,input().split())\n",
    "a = [[] for _ in range(n+1)]\n",
    "check = [False] * (n+1)\n",
    "for _ in range(m):\n",
    "    u,v = map(int,input().split())\n",
    "    a[u].append(v)\n",
    "    a[v].append(u)\n",
    "for i in range(n):\n",
    "    a[i].sort()\n",
    "\n",
    "def dfs(x):\n",
    "    global check\n",
    "    check[x] = True\n",
    "    print(x, end=' ')\n",
    "    for y in a[x]:\n",
    "        if check[y] == False:\n",
    "            dfs(y)\n",
    "\n",
    "def bfs(start):\n",
    "    check = [False] * (n+1)\n",
    "    q = deque()\n",
    "    q.append(start)\n",
    "    check[start] = True\n",
    "    while q:\n",
    "        x = q.popleft()\n",
    "        print(x, end=' ')\n",
    "        for y in a[x]:\n",
    "            if check[y] == False:\n",
    "                check[y] = True\n",
    "                q.append(y)\n",
    "\n",
    "dfs(start)\n",
    "print()\n",
    "bfs(start)\n",
    "print()"
   ]
  },
  {
   "cell_type": "markdown",
   "metadata": {},
   "source": [
    "### 미로 탐색\n",
    "\n",
    "https://www.acmicpc.net/problem/2178"
   ]
  },
  {
   "cell_type": "code",
   "execution_count": 96,
   "metadata": {},
   "outputs": [
    {
     "name": "stdout",
     "output_type": "stream",
     "text": [
      "4 6\n",
      "101111\n",
      "101010\n",
      "101011\n",
      "111011\n",
      "15\n"
     ]
    }
   ],
   "source": [
    "from collections import deque\n",
    "\n",
    "delta_x = [1,-1,0,0]\n",
    "delta_y = [0,0,1,-1]\n",
    "\n",
    "def bfs(x=0, y=0):\n",
    "    depth = 1\n",
    "    q = deque()\n",
    "    q.append((x, y, depth)) # depth을 같이 넣어주는 이유는 탐색 그 자체가 아니라 층수(최단거리)도 계산해야하기 때문이다. \n",
    "    trace[x][y] = depth\n",
    "    while True: # destination에 도착하면 그만 둔다.\n",
    "        x, y, depth = q.popleft()\n",
    "        if x==N-1 and y==M-1:\n",
    "            return depth\n",
    "        for dx, dy in zip(delta_x, delta_y):\n",
    "                if x+dx<N and y+dy<M and min(x+dx,y+dy)>-1:\n",
    "                    if miro[x+dx][y+dy]==1 and trace[x+dx][y+dy]==0:\n",
    "                        q.append((x+dx,y+dy,depth+1))\n",
    "                        trace[x+dx][y+dy] = depth+1\n",
    "\n",
    "N, M = map(int, input().split())\n",
    "miro = [list(map(int, list(input()))) for i in range(N)]\n",
    "trace = [[0]*M for i in range(N)] # 갔던 곳 또 가기 싫어서 기록\n",
    "print(bfs())"
   ]
  },
  {
   "cell_type": "markdown",
   "metadata": {},
   "source": [
    "### 소수 경로\n",
    "https://www.acmicpc.net/problem/1963"
   ]
  },
  {
   "cell_type": "markdown",
   "metadata": {},
   "source": [
    "계획\n",
    "1. 소수 test 함수를 만든다.\n",
    "2. 숫자를 넣으면 자리수 하나만 바꾼 숫자들의 list뱉는 함수\n",
    "3. 최대 36(9+9+9+9)노드로 스플릿되는 bfs를 만들자."
   ]
  },
  {
   "cell_type": "code",
   "execution_count": 152,
   "metadata": {},
   "outputs": [],
   "source": [
    "import math\n",
    "from collections import deque\n",
    "\n",
    "def prime_test(n):\n",
    "    for i in range(2,1+int(math.sqrt(n))):\n",
    "        if n%i==0:\n",
    "            return False\n",
    "    return True\n",
    "\n",
    "def generate_nums(number):\n",
    "    a = list(map(int, list(str(number))))\n",
    "    num_list = []\n",
    "\n",
    "    for i_1000 in range(1,10):\n",
    "        if i_1000!=a[0]:\n",
    "            new_a = a.copy()\n",
    "            new_a[0] = i_1000\n",
    "            num_list.append(new_a)\n",
    "\n",
    "    for i_100 in range(0,10):\n",
    "        if i_100!=a[1]:\n",
    "            new_a = a.copy()\n",
    "            new_a[1] = i_100\n",
    "            num_list.append(new_a)\n",
    "\n",
    "    for i_10 in range(0,10):\n",
    "        if i_10!=a[2]:\n",
    "            new_a = a.copy()\n",
    "            new_a[2] = i_10\n",
    "            num_list.append(new_a)\n",
    "\n",
    "    for i_1 in range(0,10):\n",
    "        if i_1!=a[3]:\n",
    "            new_a = a.copy()\n",
    "            new_a[3] = i_1\n",
    "            num_list.append(new_a)\n",
    "            \n",
    "    return [int(''.join(map(str, num))) for num in num_list]\n",
    "\n",
    "def bfs():\n",
    "    memory = [0]*10000\n",
    "    q = deque()\n",
    "    depth =0\n",
    "    q.append((departure, depth))\n",
    "    memory[departure] = 1\n",
    "    while True:\n",
    "        num_new, depth_new = q.popleft()\n",
    "        if num_new==destination:\n",
    "            return depth_new\n",
    "        num_list = [num for num in generate_nums(num_new) if prime_test(num)]\n",
    "        for num in num_list:\n",
    "            if memory[num]==0:\n",
    "                q.append((num, depth_new+1))\n",
    "                memory[num]=1\n",
    "\n",
    "for t in range(int(input())):\n",
    "    departure, destination = map(int, input().split())\n",
    "    print(bfs())"
   ]
  },
  {
   "cell_type": "markdown",
   "metadata": {},
   "source": [
    "### 어린 왕자\n",
    "https://www.acmicpc.net/problem/1004\n",
    "\n",
    "뭔말이여"
   ]
  },
  {
   "cell_type": "markdown",
   "metadata": {},
   "source": [
    "### 적록색약\n",
    "https://www.acmicpc.net/problem/10026"
   ]
  },
  {
   "cell_type": "markdown",
   "metadata": {},
   "source": [
    "계획\n",
    "1. 일반인 전용 bfs문을 만든다.\n",
    "2. 적록색약 전용 bfs문을 만든다.\n",
    "3. for i,j bfs(i,j,index)를 통해...영역의 개수를 담당하는 index"
   ]
  },
  {
   "cell_type": "code",
   "execution_count": 17,
   "metadata": {},
   "outputs": [],
   "source": [
    "from collections import deque\n",
    "\n",
    "N = int(input())\n",
    "a =[list(input()) for i in range(N)]\n",
    "\n",
    "a_c = [list(''.join(i).replace('G','R')) for i in a]\n",
    "\n",
    "delta_x = [1,0,-1,0]\n",
    "delta_y = [0,1,0,-1]\n",
    "memory = [[0]*N for i in range(N)]\n",
    "memory_c = [[0]*N for i in range(N)]\n",
    "def bfs_normal(x, y, index):\n",
    "    q = deque()\n",
    "    q.append((x,y,a[x][y]))\n",
    "    memory[x][y] = index\n",
    "    while q: # next가 반환하는 게 없으면 안돌림\n",
    "        new_x, new_y, new_color = q.popleft()\n",
    "        for dx, dy in zip(delta_x, delta_y):\n",
    "                if max(new_x+dx,new_y+dy)<N and min(new_x+dx,new_y+dy)>-1:\n",
    "                    if a[new_x+dx][new_y+dy]==new_color and memory[new_x+dx][new_y+dy]==0:\n",
    "                        q.append((new_x+dx, new_y+dy, new_color))\n",
    "                        memory[new_x+dx][new_y+dy] = index\n",
    "                        \n",
    "def bfs_c(x, y, index):\n",
    "    q = deque()\n",
    "    q.append((x,y,a_c[x][y]))\n",
    "    memory_c[x][y] = index\n",
    "    while q: # next가 반환하는 게 없으면 안돌림\n",
    "        new_x, new_y, new_color = q.popleft()\n",
    "        for dx, dy in zip(delta_x, delta_y):\n",
    "                if max(new_x+dx,new_y+dy)<N and min(new_x+dx,new_y+dy)>-1:\n",
    "                    if a_c[new_x+dx][new_y+dy]==new_color and memory_c[new_x+dx][new_y+dy]==0:\n",
    "                        q.append((new_x+dx, new_y+dy, new_color))\n",
    "                        memory_c[new_x+dx][new_y+dy] = index                    \n",
    "\n",
    "index=1\n",
    "for i in range(N):\n",
    "    for j in range(N):\n",
    "        if memory[i][j]==0:\n",
    "            bfs_normal(i,j,index)\n",
    "            index+=1\n",
    "            \n",
    "index_c = 1\n",
    "for i in range(N):\n",
    "    for j in range(N):\n",
    "        if memory_c[i][j]==0:\n",
    "            bfs_c(i,j,index_c)\n",
    "            index_c+=1\n",
    "\n",
    "print(index-1, index_c-1)"
   ]
  },
  {
   "cell_type": "markdown",
   "metadata": {},
   "source": [
    "### Puyo Puyo\n",
    "https://www.acmicpc.net/problem/11559"
   ]
  },
  {
   "cell_type": "markdown",
   "metadata": {},
   "source": [
    "계획\n",
    "1. bfs memorization에 index를 붙이자(전단지문제)\n",
    "2. puyo함수 (memorization을 이용해 터트릴 애들 다 터트리기, 터트릴 거 없으면 loop종료 기능까지)\n",
    "3. 중력함수\n",
    "4. return to 1."
   ]
  },
  {
   "cell_type": "code",
   "execution_count": 16,
   "metadata": {},
   "outputs": [
    {
     "name": "stdout",
     "output_type": "stream",
     "text": [
      "Y...YR\n",
      "B.RGGY\n",
      "R.GGYY\n",
      "G.RYGR\n",
      "YGYGRR\n",
      "YBRYGY\n",
      "RRYYGY\n",
      "YYRBRB\n",
      "YRBGBB\n",
      "GBRBGR\n",
      "GBRBGR\n",
      "GBRBGR\n",
      "14\n"
     ]
    }
   ],
   "source": [
    "from collections import deque\n",
    "\n",
    "def bfs(x, y, index):\n",
    "    q = deque()\n",
    "    q.append((x,y,index))\n",
    "    memory[x][y] = index\n",
    "    while q:\n",
    "        new_x, new_y, new_index = q.popleft()\n",
    "        for dx, dy in zip(delta_x, delta_y):\n",
    "            if new_x+dx<12 and new_y+dy<6 and new_x+dx >-1 and new_y+dy>-1:\n",
    "                if a[new_x][new_y]==a[new_x+dx][new_y+dy] and memory[new_x+dx][new_y+dy]==0: # 다 똑같다면, 한번도 안왔으면 \n",
    "                    q.append((new_x+dx, new_y+dy, new_index))\n",
    "                    memory[new_x+dx][new_y+dy] = new_index\n",
    "    return\n",
    "\n",
    "# 뿌요함수 계획\n",
    "\n",
    "# 1. memory를 받아서 1~index-1 마다 배열에 그 숫자가 몇개 속해있는지 뱉자\n",
    "\n",
    "# 2. 그 중에서 4가 넘었다면 그 index들의 위치를 반환한다\n",
    "\n",
    "# 3. 그 위치에 해당하는 a의 원소들을 다 .으로 바꾸자\n",
    "\n",
    "def puyo():\n",
    "    ids_over4 = []\n",
    "    for id in range(1,index):\n",
    "        if sum([arr.count(id) for arr in memory])>=4:\n",
    "            ids_over4.append(id)\n",
    "    if len(ids_over4)==0:\n",
    "        return False\n",
    "    \n",
    "    locations_change = []\n",
    "    for id in ids_over4:\n",
    "        for i in range(12):\n",
    "            for j in range(6):\n",
    "                if memory[i][j]==id:\n",
    "                    locations_change.append((i,j))\n",
    "\n",
    "    for location in locations_change:\n",
    "        a[location[0]][location[1]]='.'\n",
    "    return True\n",
    "\n",
    "def grav():    \n",
    "    # 다 점이 아닌 애들 중에서 문자 사이에 점이 있는 애들중 문자가 뜨기 까지 점의 개수만큼 문자를 내릴 것\n",
    "    for grav in range(6):\n",
    "        stack=[]\n",
    "        for j in range(11,-1,-1):\n",
    "            if a[j][grav]!='.':\n",
    "                stack.append(a[j][grav])\n",
    "        # 일단 다 . 으로 초기화하고 하나씩 넣자\n",
    "        for i in range(12):\n",
    "            a[i][grav]='.'\n",
    "        for i in range(11,11-len(stack),-1):\n",
    "            a[i][grav]=stack[11-i]\n",
    "\n",
    "            \n",
    "delta_x = [1,0,-1,0]\n",
    "delta_y = [0,-1,0,1]\n",
    "a = [list(input()) for i in range(12)]\n",
    "\n",
    "ct=0\n",
    "\n",
    "while True:\n",
    "    memory = [[0]*6 for i in range(12)]\n",
    "    index = 1\n",
    "    for x in range(12):\n",
    "        for y in range(6):\n",
    "            if a[x][y]!= '.' and memory[x][y]==0:\n",
    "                bfs(x,y,index)\n",
    "                index+=1\n",
    "    if not puyo():\n",
    "        break\n",
    "    grav()\n",
    "    ct+=1\n",
    "print(ct)"
   ]
  },
  {
   "cell_type": "code",
   "execution_count": null,
   "metadata": {},
   "outputs": [],
   "source": []
  }
 ],
 "metadata": {
  "kernelspec": {
   "display_name": "Python 3",
   "language": "python",
   "name": "python3"
  },
  "language_info": {
   "codemirror_mode": {
    "name": "ipython",
    "version": 3
   },
   "file_extension": ".py",
   "mimetype": "text/x-python",
   "name": "python",
   "nbconvert_exporter": "python",
   "pygments_lexer": "ipython3",
   "version": "3.8.8"
  }
 },
 "nbformat": 4,
 "nbformat_minor": 2
}
