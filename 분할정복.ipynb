{
 "cells": [
  {
   "cell_type": "markdown",
   "id": "intellectual-worse",
   "metadata": {},
   "source": [
    "# 분할정복\n",
    "\n",
    "1. 분할 : 문제를 작은 사례로 분할한다.\n",
    "2. 정복 : 작은 사례를 정복한다.\n",
    "3. 통합 : 작은 사례들을 통합하여 답을 구한다.\n",
    "\n",
    "---\n",
    "\n",
    "이와 관련해 대표적으로 퀵정렬이 있다.\n",
    "\n",
    "1. 기준 원소(pivot)을 기준으로 좌우를 분할\n",
    "2. 왼쪽의 리스트와 오른쪽의 리스트를 각각 정복한다.\n",
    "3. 분할해서 정렬된 리스트를 통합한다."
   ]
  },
  {
   "cell_type": "markdown",
   "id": "deadly-accounting",
   "metadata": {},
   "source": [
    "### Z \n",
    "\n",
    "https://www.acmicpc.net/problem/1074"
   ]
  },
  {
   "cell_type": "markdown",
   "id": "cooperative-mayor",
   "metadata": {},
   "source": [
    "![](./fig/1074.png)\n",
    "\n",
    "![](./fig/1074_1.png)"
   ]
  },
  {
   "cell_type": "code",
   "execution_count": 18,
   "id": "useful-radar",
   "metadata": {},
   "outputs": [
    {
     "name": "stdout",
     "output_type": "stream",
     "text": [
      "2 3 1\n",
      "11\n"
     ]
    }
   ],
   "source": [
    "n, row, col = list(map(int, input().split()))\n",
    "\n",
    "row_moves = []\n",
    "col_moves = []\n",
    "for i in range(n-1, 0-1, -1):\n",
    "    row_quotient = row//(2**i)\n",
    "    col_quotient = col//(2**i)\n",
    "    row_moves = [row_quotient] + row_moves\n",
    "    col_moves = [col_quotient] + col_moves\n",
    "    row -= row_quotient*(2**i)\n",
    "    col -= col_quotient*(2**i)\n",
    "\n",
    "row_num = sum([n*(2*4**i) for i, n in enumerate(row_moves)])\n",
    "col_num = sum([n*(4**i) for i, n in enumerate(col_moves)])\n",
    "\n",
    "print(row_num + col_num)"
   ]
  },
  {
   "cell_type": "markdown",
   "id": "antique-touch",
   "metadata": {},
   "source": [
    "### 색종이 만들기\n",
    "\n",
    "https://www.acmicpc.net/problem/2630"
   ]
  },
  {
   "cell_type": "code",
   "execution_count": 66,
   "id": "capable-parcel",
   "metadata": {},
   "outputs": [
    {
     "name": "stdout",
     "output_type": "stream",
     "text": [
      "8\n",
      "1 1 0 0 0 0 1 1\n",
      "1 1 0 0 0 0 1 1\n",
      "0 0 0 0 1 1 0 0\n",
      "0 0 0 0 1 1 0 0\n",
      "1 0 0 0 1 1 1 1\n",
      "0 1 0 0 1 1 1 1\n",
      "0 0 1 1 1 1 1 1\n",
      "0 0 1 1 1 1 1 1\n",
      "9\n",
      "7\n"
     ]
    }
   ],
   "source": [
    "n_qry = int(input())\n",
    "arr = []\n",
    "for _ in range(n_qry):\n",
    "    arr.append(tuple(map(int, input().split())))\n",
    "\n",
    "def divide(arr):\n",
    "    n = len(arr)\n",
    "    arr1 = tuple(map(lambda x: x[:n//2], arr[:n//2]))\n",
    "    arr2 = tuple(map(lambda x: x[:n//2], arr[n//2:]))\n",
    "    arr3 = tuple(map(lambda x: x[n//2:], arr[:n//2]))\n",
    "    arr4 = tuple(map(lambda x: x[n//2:], arr[n//2:]))\n",
    "    return arr1, arr2, arr3, arr4\n",
    "\n",
    "one_count = 0\n",
    "zero_count = 0\n",
    "\n",
    "def conquer(arr):\n",
    "    global one_count\n",
    "    global zero_count\n",
    "    \n",
    "    if len(set(arr)) == 1:\n",
    "        unique_row = set(arr).copy().pop()\n",
    "        if sum(unique_row) == 0:\n",
    "            zero_count += 1\n",
    "            return\n",
    "        elif sum(unique_row) == len(unique_row):\n",
    "            one_count += 1\n",
    "            return\n",
    "    arr1, arr2, arr3, arr4 = divide(arr)\n",
    "    conquer(arr1)\n",
    "    conquer(arr2)\n",
    "    conquer(arr3)\n",
    "    conquer(arr4)\n",
    "\n",
    "conquer(arr)\n",
    "\n",
    "print(zero_count)\n",
    "print(one_count)"
   ]
  },
  {
   "cell_type": "code",
   "execution_count": 64,
   "id": "skilled-humidity",
   "metadata": {},
   "outputs": [],
   "source": [
    "def a():\n",
    "    return"
   ]
  },
  {
   "cell_type": "code",
   "execution_count": 59,
   "id": "homeless-discipline",
   "metadata": {},
   "outputs": [
    {
     "data": {
      "text/plain": [
       "7"
      ]
     },
     "execution_count": 59,
     "metadata": {},
     "output_type": "execute_result"
    }
   ],
   "source": [
    "8\n",
    "1 1 0 0 0 0 1 1\n",
    "1 1 0 0 0 0 1 1\n",
    "0 0 0 0 1 1 0 0\n",
    "0 0 0 0 1 1 0 0\n",
    "1 0 0 0 1 1 1 1\n",
    "0 1 0 0 1 1 1 1\n",
    "0 0 1 1 1 1 1 1\n",
    "0 0 1 1 1 1 1 1"
   ]
  },
  {
   "cell_type": "markdown",
   "id": "integrated-oasis",
   "metadata": {},
   "source": [
    "# 곱하기\n",
    "\n"
   ]
  },
  {
   "cell_type": "markdown",
   "id": "distributed-casting",
   "metadata": {},
   "source": [
    "실패"
   ]
  },
  {
   "cell_type": "code",
   "execution_count": 15,
   "id": "cleared-bowling",
   "metadata": {},
   "outputs": [
    {
     "name": "stdout",
     "output_type": "stream",
     "text": [
      "10 11 12\n",
      "11\n",
      "5\n",
      "2\n",
      "1\n",
      "4\n"
     ]
    }
   ],
   "source": [
    "n, m, q = map(int, input().split())\n",
    "\n",
    "def f(num, power):\n",
    "    if power==1:\n",
    "        return num\n",
    "    if power % 2 == 1:\n",
    "        temp =  f(num, power//2)\n",
    "        return num * temp ** 2\n",
    "    else:\n",
    "        temp = f(num, power//2)\n",
    "        return temp ** 2\n",
    "\n",
    "print(f(n, m) % q)"
   ]
  },
  {
   "cell_type": "markdown",
   "id": "pediatric-result",
   "metadata": {},
   "source": [
    "성공\n",
    "\n",
    "이는 $N^{2M} \\% Q = (N^{M} \\% Q)^2 \\% Q$ 공식을 알아야 한다."
   ]
  },
  {
   "cell_type": "code",
   "execution_count": 39,
   "id": "mounted-roots",
   "metadata": {},
   "outputs": [
    {
     "name": "stdout",
     "output_type": "stream",
     "text": [
      "10 11 12\n",
      "4\n"
     ]
    }
   ],
   "source": [
    "n, m, q = map(int, input().split())\n",
    "\n",
    "def f(num, power):\n",
    "    if power==1:\n",
    "        return num % q\n",
    "    if power % 2 == 1:\n",
    "        temp =  f(num, power//2)\n",
    "        return num * temp ** 2 % q\n",
    "    else:\n",
    "        temp = f(num, power//2)\n",
    "        return temp ** 2 % q\n",
    "\n",
    "print(f(n, m))"
   ]
  }
 ],
 "metadata": {
  "kernelspec": {
   "display_name": "Python 3",
   "language": "python",
   "name": "python3"
  },
  "language_info": {
   "codemirror_mode": {
    "name": "ipython",
    "version": 3
   },
   "file_extension": ".py",
   "mimetype": "text/x-python",
   "name": "python",
   "nbconvert_exporter": "python",
   "pygments_lexer": "ipython3",
   "version": "3.8.8"
  }
 },
 "nbformat": 4,
 "nbformat_minor": 5
}
